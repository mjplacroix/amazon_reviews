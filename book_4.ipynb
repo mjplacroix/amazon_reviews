{
 "cells": [
  {
   "cell_type": "markdown",
   "metadata": {},
   "source": [
    "The following is a progressively scaled benchmarking of two primary things:\n",
    "- pandas' `pd.read_csv()` function VS `feather-format`\n",
    "- `.apply` & `lambda` functions VS pandas built-ins for `datetime` conversion\n",
    "\n",
    "The results were computed on AWS SageMaker - an ml.m5.4xlarge instance or larger as the unzipped data file size grew.  \n",
    "\n",
    "TL;DR:\n",
    "- Importing with `feather-format` was generally >2x faster than pandas' `pd.read_csv()`\n",
    "- Using pandas built-ins was generally 30-50x faster (serious efficiency gains)"
   ]
  },
  {
   "cell_type": "markdown",
   "metadata": {},
   "source": [
    "this install pyarrow - a necessary dependency for feather-format"
   ]
  },
  {
   "cell_type": "code",
   "execution_count": 1,
   "metadata": {},
   "outputs": [
    {
     "name": "stdout",
     "output_type": "stream",
     "text": [
      "Requirement already satisfied: pyarrow in /home/ec2-user/anaconda3/envs/python3/lib/python3.6/site-packages (1.0.1)\n",
      "Requirement already satisfied: numpy>=1.14 in /home/ec2-user/anaconda3/envs/python3/lib/python3.6/site-packages (from pyarrow) (1.18.1)\n",
      "\u001b[33mWARNING: You are using pip version 20.0.2; however, version 20.2.3 is available.\n",
      "You should consider upgrading via the '/home/ec2-user/anaconda3/envs/python3/bin/python -m pip install --upgrade pip' command.\u001b[0m\n",
      "Note: you may need to restart the kernel to use updated packages.\n"
     ]
    }
   ],
   "source": [
    "pip install pyarrow"
   ]
  },
  {
   "cell_type": "code",
   "execution_count": 2,
   "metadata": {},
   "outputs": [
    {
     "name": "stdout",
     "output_type": "stream",
     "text": [
      "Requirement already satisfied: feather-format in /home/ec2-user/anaconda3/envs/python3/lib/python3.6/site-packages (0.4.1)\n",
      "Requirement already satisfied: pyarrow>=0.4.0 in /home/ec2-user/anaconda3/envs/python3/lib/python3.6/site-packages (from feather-format) (1.0.1)\n",
      "Requirement already satisfied: numpy>=1.14 in /home/ec2-user/anaconda3/envs/python3/lib/python3.6/site-packages (from pyarrow>=0.4.0->feather-format) (1.18.1)\n",
      "\u001b[33mWARNING: You are using pip version 20.0.2; however, version 20.2.3 is available.\n",
      "You should consider upgrading via the '/home/ec2-user/anaconda3/envs/python3/bin/python -m pip install --upgrade pip' command.\u001b[0m\n",
      "Note: you may need to restart the kernel to use updated packages.\n"
     ]
    }
   ],
   "source": [
    "pip install feather-format"
   ]
  },
  {
   "cell_type": "code",
   "execution_count": 3,
   "metadata": {},
   "outputs": [],
   "source": [
    "import pandas as pd\n",
    "import time\n",
    "import matplotlib.pyplot as plt\n",
    "import os\n",
    "import json\n",
    "import gzip\n",
    "from urllib.request import urlopen\n",
    "import feather "
   ]
  },
  {
   "cell_type": "markdown",
   "metadata": {},
   "source": [
    "## Magazine data (~89k reviews)"
   ]
  },
  {
   "cell_type": "code",
   "execution_count": 4,
   "metadata": {},
   "outputs": [
    {
     "name": "stdout",
     "output_type": "stream",
     "text": [
      "--2020-09-16 00:11:28--  http://deepyeti.ucsd.edu/jianmo/amazon/categoryFiles/Magazine_Subscriptions.json.gz\n",
      "Resolving deepyeti.ucsd.edu (deepyeti.ucsd.edu)... 169.228.63.50\n",
      "Connecting to deepyeti.ucsd.edu (deepyeti.ucsd.edu)|169.228.63.50|:80... connected.\n",
      "HTTP request sent, awaiting response... 200 OK\n",
      "Length: 12875273 (12M) [application/octet-stream]\n",
      "Saving to: ‘Magazine_Subscriptions.json.gz’\n",
      "\n",
      "Magazine_Subscripti 100%[===================>]  12.28M  13.0MB/s    in 0.9s    \n",
      "\n",
      "2020-09-16 00:11:29 (13.0 MB/s) - ‘Magazine_Subscriptions.json.gz’ saved [12875273/12875273]\n",
      "\n"
     ]
    }
   ],
   "source": [
    "# download the data\n",
    "!wget http://deepyeti.ucsd.edu/jianmo/amazon/categoryFiles/Magazine_Subscriptions.json.gz\n",
    "\n",
    "### load the meta data\n",
    "data = []\n",
    "with gzip.open('Magazine_Subscriptions.json.gz') as f:\n",
    "    for l in f:\n",
    "        data.append(json.loads(l.strip()))\n",
    "        \n",
    "# convert list into pandas dataframe\n",
    "df_magazines = pd.DataFrame.from_dict(data)"
   ]
  },
  {
   "cell_type": "markdown",
   "metadata": {},
   "source": [
    "Sum up the null columns\n",
    "\n",
    "Drop the unneeded columns\n",
    "\n",
    "Save the data as a csv & feather format"
   ]
  },
  {
   "cell_type": "code",
   "execution_count": 5,
   "metadata": {},
   "outputs": [
    {
     "data": {
      "text/plain": [
       "overall               0\n",
       "vote              65586\n",
       "verified              0\n",
       "reviewTime            0\n",
       "reviewerID            0\n",
       "asin                  0\n",
       "reviewerName          2\n",
       "reviewText           33\n",
       "summary              19\n",
       "unixReviewTime        0\n",
       "style             38291\n",
       "image             89554\n",
       "dtype: int64"
      ]
     },
     "execution_count": 5,
     "metadata": {},
     "output_type": "execute_result"
    }
   ],
   "source": [
    "# check for columns with nulls\n",
    "df_magazines.isnull().sum()"
   ]
  },
  {
   "cell_type": "code",
   "execution_count": 6,
   "metadata": {},
   "outputs": [
    {
     "name": "stdout",
     "output_type": "stream",
     "text": [
      "(89689, 5)\n"
     ]
    }
   ],
   "source": [
    "# drop columns containing nulls\n",
    "df_magazines = df_magazines.drop(columns=['vote', 'reviewTime', 'asin', 'reviewerID', 'image', 'verified', 'style'])\n",
    "\n",
    "#print current shapes\n",
    "print(df_magazines.shape)\n",
    "\n",
    "# saving the dataframe \n",
    "df_magazines.to_csv('Magazine_Subscriptions.csv')\n",
    "\n",
    "# save in feather format\n",
    "df_magazines.to_feather('Magazine_Subscriptions.feather')"
   ]
  },
  {
   "cell_type": "markdown",
   "metadata": {},
   "source": [
    "Read in the csv as a pandas dataframe and print out the shape - time it\n",
    "\n",
    "Save time as a variable for later usage/comparison"
   ]
  },
  {
   "cell_type": "code",
   "execution_count": 11,
   "metadata": {},
   "outputs": [
    {
     "name": "stdout",
     "output_type": "stream",
     "text": [
      "(89689, 6)\n",
      "Time: 0.30\n"
     ]
    }
   ],
   "source": [
    "startTime = time.time()\n",
    "\n",
    "#load csvs\n",
    "df_magazines = pd.read_csv('Magazine_Subscriptions.csv')\n",
    "\n",
    "#print current shape\n",
    "print(df_magazines.shape)\n",
    "\n",
    "# print time & save time for later comparison\n",
    "time_csv_1 = time.time() - startTime\n",
    "print(f'Time: {time_csv_1:.2f}')"
   ]
  },
  {
   "cell_type": "markdown",
   "metadata": {},
   "source": [
    "Transform the date column using `.apply` and a `lambda` function - time it\n",
    "\n",
    "Save time as a variable for later usage/comparison"
   ]
  },
  {
   "cell_type": "code",
   "execution_count": 12,
   "metadata": {},
   "outputs": [
    {
     "name": "stdout",
     "output_type": "stream",
     "text": [
      "(89689, 6)\n"
     ]
    }
   ],
   "source": [
    "df_magazines.columns\n",
    "print(df_magazines.shape)"
   ]
  },
  {
   "cell_type": "code",
   "execution_count": 13,
   "metadata": {},
   "outputs": [
    {
     "name": "stdout",
     "output_type": "stream",
     "text": [
      "(89689, 9)\n",
      "Time: 0.68\n"
     ]
    }
   ],
   "source": [
    "startTime = time.time()\n",
    "\n",
    "# converting 'reviewTime' to pandas datetime\n",
    "df_magazines['datetime'] = pd.to_datetime(df_magazines['unixReviewTime'], unit='s')\n",
    "\n",
    "# created sep column for 'Year' \n",
    "df_magazines['Year'] = df_magazines['datetime'].apply(lambda x: \"%d\" % (x.year))\n",
    "# created sep column for 'Year' \n",
    "df_magazines['Month'] = df_magazines['datetime'].apply(lambda x: \"%d\" % (x.month))\n",
    "\n",
    "# print shape to confirm\n",
    "print(df_magazines.shape)\n",
    "\n",
    "# print time & save time for later comparison\n",
    "time_csv_2 = time.time() - startTime\n",
    "print(f'Time: {time_csv_2:.2f}')"
   ]
  },
  {
   "cell_type": "markdown",
   "metadata": {},
   "source": [
    "Read in the `.feather` file as a pandas dataframe and print out the shape - time it\n",
    "\n",
    "Save time as a variable for later usage/comparison"
   ]
  },
  {
   "cell_type": "code",
   "execution_count": 14,
   "metadata": {},
   "outputs": [
    {
     "name": "stdout",
     "output_type": "stream",
     "text": [
      "(89689, 5)\n",
      "Time: 0.11\n"
     ]
    }
   ],
   "source": [
    "startTime = time.time()\n",
    "\n",
    "# read in feather format\n",
    "df_magazines = feather.read_dataframe('Magazine_Subscriptions.feather')\n",
    "\n",
    "#print current shape to confirm\n",
    "print(df_magazines.shape)\n",
    "\n",
    "# print time & save time for later comparison\n",
    "time_feather_1 = time.time() - startTime\n",
    "print(f'Time: {time_feather_1:.2f}')"
   ]
  },
  {
   "cell_type": "markdown",
   "metadata": {},
   "source": [
    "Using built in unix -> datetime conversion and pull out years/month to separate columsn ([stackoverflow](https://stackoverflow.com/questions/62292464/how-do-i-add-a-year-and-month-columns-to-my-pandas-dataframe-using-unix-timestam))\n",
    "- time it\n",
    "\n",
    "Save time as a variable for later usage/comparison"
   ]
  },
  {
   "cell_type": "code",
   "execution_count": 15,
   "metadata": {},
   "outputs": [
    {
     "name": "stdout",
     "output_type": "stream",
     "text": [
      "(89689, 7)\n",
      "Time: 0.02\n"
     ]
    }
   ],
   "source": [
    "startTime = time.time()\n",
    "\n",
    "#Convert unix timestamps to datetime.\n",
    "df_magazines['datetime'] = pd.to_datetime(df_magazines['unixReviewTime'],unit='s')\n",
    "\n",
    "#Set the 'datetime' field to be the index.\n",
    "df_magazines.set_index('datetime',inplace=True)\n",
    "\n",
    "#Extract the month from the index.\n",
    "df_magazines['Month'] = df_magazines.index.month\n",
    "\n",
    "#Extract the year from the index.\n",
    "df_magazines['Year'] = df_magazines.index.year\n",
    "\n",
    "# note that that the shape will have one less bc the 'datetime' as the index isn't counted\n",
    "print(df_magazines.shape)\n",
    "\n",
    "time_feather_2 = time.time() - startTime\n",
    "print(f'Time: {time_feather_2:.2f}')"
   ]
  },
  {
   "cell_type": "markdown",
   "metadata": {},
   "source": [
    "Time comparison of \n",
    "\n",
    "1) `csv` VS `feather` files\n",
    "\n",
    "2) `.apply` & `lambda` VS native pandas conversions"
   ]
  },
  {
   "cell_type": "code",
   "execution_count": 16,
   "metadata": {},
   "outputs": [
    {
     "name": "stdout",
     "output_type": "stream",
     "text": [
      "TL:DR\n",
      "Import was 2.84x faster with feather\n",
      "Conversion was 32.17x faster with built-ins VS .apply and lambda\n",
      "---------------------------------------\n",
      "CSV load time: 0.30130887031555176\n",
      "Feather load time: 0.10614585876464844\n",
      "CSV datetime conversion & creation: 0.6788976192474365\n",
      "Feather datetime conversion & creation: 0.021103858947753906\n"
     ]
    }
   ],
   "source": [
    "importing = time_csv_1 / time_feather_1\n",
    "conversion = time_csv_2 / time_feather_2\n",
    "\n",
    "print('TL;DR')\n",
    "print(f'Import was {importing:.2f}x faster with feather')\n",
    "print(f'Conversion was {conversion:.2f}x faster with built-ins VS .apply and lambda')\n",
    "print('---------------------------------------')\n",
    "print(f'CSV load time: {time_csv_1}')\n",
    "print(f'Feather load time: {time_feather_1}')\n",
    "\n",
    "print(f'CSV datetime conversion & creation: {time_csv_2}')\n",
    "print(f'Feather datetime conversion & creation: {time_feather_2}')"
   ]
  },
  {
   "cell_type": "code",
   "execution_count": 17,
   "metadata": {},
   "outputs": [],
   "source": [
    "# remove current files\n",
    "os.remove('Magazine_Subscriptions.json.gz')\n",
    "os.remove('Magazine_Subscriptions.feather')\n",
    "os.remove('Magazine_Subscriptions.csv')"
   ]
  },
  {
   "cell_type": "markdown",
   "metadata": {},
   "source": [
    "## Fashion data (~883k reviews)"
   ]
  },
  {
   "cell_type": "code",
   "execution_count": 18,
   "metadata": {},
   "outputs": [
    {
     "name": "stdout",
     "output_type": "stream",
     "text": [
      "--2020-09-15 22:17:06--  http://deepyeti.ucsd.edu/jianmo/amazon/categoryFiles/AMAZON_FASHION.json.gz\n",
      "Resolving deepyeti.ucsd.edu (deepyeti.ucsd.edu)... 169.228.63.50\n",
      "Connecting to deepyeti.ucsd.edu (deepyeti.ucsd.edu)|169.228.63.50|:80... connected.\n",
      "HTTP request sent, awaiting response... 200 OK\n",
      "Length: 93185167 (89M) [application/octet-stream]\n",
      "Saving to: ‘AMAZON_FASHION.json.gz’\n",
      "\n",
      "AMAZON_FASHION.json 100%[===================>]  88.87M  23.7MB/s    in 4.1s    \n",
      "\n",
      "2020-09-15 22:17:11 (21.6 MB/s) - ‘AMAZON_FASHION.json.gz’ saved [93185167/93185167]\n",
      "\n"
     ]
    }
   ],
   "source": [
    "# download the data\n",
    "!wget http://deepyeti.ucsd.edu/jianmo/amazon/categoryFiles/AMAZON_FASHION.json.gz\n",
    "\n",
    "### load the meta data\n",
    "data = []\n",
    "with gzip.open('AMAZON_FASHION.json.gz') as f:\n",
    "    for l in f:\n",
    "        data.append(json.loads(l.strip()))\n",
    "        \n",
    "# convert list into pandas dataframe\n",
    "df_fashion = pd.DataFrame.from_dict(data)"
   ]
  },
  {
   "cell_type": "markdown",
   "metadata": {},
   "source": [
    "Sum up the null columns\n",
    "\n",
    "Drop the unneeded columns\n",
    "\n",
    "Save the data as a csv & feather format"
   ]
  },
  {
   "cell_type": "code",
   "execution_count": 19,
   "metadata": {},
   "outputs": [
    {
     "data": {
      "text/plain": [
       "overall                0\n",
       "verified               0\n",
       "reviewTime             0\n",
       "reviewerID             0\n",
       "asin                   0\n",
       "reviewerName          92\n",
       "reviewText          1233\n",
       "summary              533\n",
       "unixReviewTime         0\n",
       "vote              803736\n",
       "style             579067\n",
       "image             854829\n",
       "dtype: int64"
      ]
     },
     "execution_count": 19,
     "metadata": {},
     "output_type": "execute_result"
    }
   ],
   "source": [
    "# check for columns with nulls\n",
    "df_fashion.isnull().sum()"
   ]
  },
  {
   "cell_type": "code",
   "execution_count": 20,
   "metadata": {},
   "outputs": [
    {
     "name": "stdout",
     "output_type": "stream",
     "text": [
      "(883636, 5)\n"
     ]
    }
   ],
   "source": [
    "# drop columns containing nulls\n",
    "df_fashion = df_fashion.drop(columns=['vote', 'reviewTime', 'asin', 'reviewerID', 'image', 'verified', 'style'])\n",
    "\n",
    "#print current shapes\n",
    "print(df_fashion.shape)\n",
    "\n",
    "# saving the dataframe \n",
    "df_fashion.to_csv('AMAZON_FASHION.csv')\n",
    "\n",
    "# save in feather format\n",
    "df_fashion.to_feather('AMAZON_FASHION.feather')"
   ]
  },
  {
   "cell_type": "markdown",
   "metadata": {},
   "source": [
    "Read in the csv as a pandas dataframe and print out the shape - time it\n",
    "\n",
    "Save time as a variable for later usage/comparison"
   ]
  },
  {
   "cell_type": "code",
   "execution_count": 21,
   "metadata": {},
   "outputs": [
    {
     "name": "stdout",
     "output_type": "stream",
     "text": [
      "(883636, 6)\n",
      "Time: 2.28\n"
     ]
    }
   ],
   "source": [
    "startTime = time.time()\n",
    "\n",
    "#load csvs\n",
    "df_fashion = pd.read_csv('AMAZON_FASHION.csv')\n",
    "\n",
    "#print current shape\n",
    "print(df_fashion.shape)\n",
    "\n",
    "# print time & save time for later comparison\n",
    "time_csv_1 = time.time() - startTime\n",
    "print(f'Time: {time_csv_1:.2f}')"
   ]
  },
  {
   "cell_type": "markdown",
   "metadata": {},
   "source": [
    "Transform the date column using `.apply` and a `lambda` function - time it\n",
    "\n",
    "Save time as a variable for later usage/comparison"
   ]
  },
  {
   "cell_type": "code",
   "execution_count": 22,
   "metadata": {},
   "outputs": [
    {
     "name": "stdout",
     "output_type": "stream",
     "text": [
      "(883636, 6)\n"
     ]
    }
   ],
   "source": [
    "df_fashion.columns\n",
    "print(df_fashion.shape)"
   ]
  },
  {
   "cell_type": "code",
   "execution_count": 23,
   "metadata": {},
   "outputs": [
    {
     "name": "stdout",
     "output_type": "stream",
     "text": [
      "(883636, 9)\n",
      "Time: 7.78\n"
     ]
    }
   ],
   "source": [
    "startTime = time.time()\n",
    "\n",
    "# converting 'reviewTime' to pandas datetime\n",
    "df_fashion['datetime'] = pd.to_datetime(df_fashion['unixReviewTime'], unit='s')\n",
    "\n",
    "# created sep column for 'Year' \n",
    "df_fashion['Year'] = df_fashion['datetime'].apply(lambda x: \"%d\" % (x.year))\n",
    "# created sep column for 'Year' \n",
    "df_fashion['Month'] = df_fashion['datetime'].apply(lambda x: \"%d\" % (x.month))\n",
    "\n",
    "# print shape to confirm\n",
    "print(df_fashion.shape)\n",
    "\n",
    "# print time & save time for later comparison\n",
    "time_csv_2 = time.time() - startTime\n",
    "print(f'Time: {time_csv_2:.2f}')"
   ]
  },
  {
   "cell_type": "markdown",
   "metadata": {},
   "source": [
    "Read in the `.feather` file as a pandas dataframe and print out the shape - time it\n",
    "\n",
    "Save time as a variable for later usage/comparison"
   ]
  },
  {
   "cell_type": "code",
   "execution_count": 24,
   "metadata": {},
   "outputs": [
    {
     "name": "stdout",
     "output_type": "stream",
     "text": [
      "(883636, 5)\n",
      "Time: 0.95\n"
     ]
    }
   ],
   "source": [
    "startTime = time.time()\n",
    "\n",
    "# read in feather format\n",
    "df_fashion = feather.read_dataframe('AMAZON_FASHION.feather')\n",
    "\n",
    "#print current shape to confirm\n",
    "print(df_fashion.shape)\n",
    "\n",
    "# print time & save time for later comparison\n",
    "time_feather_1 = time.time() - startTime\n",
    "print(f'Time: {time_feather_1:.2f}')"
   ]
  },
  {
   "cell_type": "markdown",
   "metadata": {},
   "source": [
    "Using built in unix -> datetime conversion and pull out years/month to separate columsn ([stackoverflow](https://stackoverflow.com/questions/62292464/how-do-i-add-a-year-and-month-columns-to-my-pandas-dataframe-using-unix-timestam))\n",
    "- time it\n",
    "\n",
    "Save time as a variable for later usage/comparison"
   ]
  },
  {
   "cell_type": "code",
   "execution_count": 25,
   "metadata": {},
   "outputs": [
    {
     "name": "stdout",
     "output_type": "stream",
     "text": [
      "(883636, 7)\n",
      "Time: 0.18\n"
     ]
    }
   ],
   "source": [
    "startTime = time.time()\n",
    "\n",
    "#Convert unix timestamps to datetime.\n",
    "df_fashion['datetime'] = pd.to_datetime(df_fashion['unixReviewTime'],unit='s')\n",
    "\n",
    "#Set the 'datetime' field to be the index.\n",
    "df_fashion.set_index('datetime',inplace=True)\n",
    "\n",
    "#Extract the month from the index.\n",
    "df_fashion['Month'] = df_fashion.index.month\n",
    "\n",
    "#Extract the year from the index.\n",
    "df_fashion['Year'] = df_fashion.index.year\n",
    "\n",
    "# note that that the shape will have one less bc the 'datetime' as the index isn't counted\n",
    "print(df_fashion.shape)\n",
    "\n",
    "time_feather_2 = time.time() - startTime\n",
    "print(f'Time: {time_feather_2:.2f}')"
   ]
  },
  {
   "cell_type": "markdown",
   "metadata": {},
   "source": [
    "Time comparison of \n",
    "\n",
    "1) `csv` VS `feather` files\n",
    "\n",
    "2) `.apply` & `lambda` VS native pandas conversions"
   ]
  },
  {
   "cell_type": "code",
   "execution_count": 26,
   "metadata": {},
   "outputs": [
    {
     "name": "stdout",
     "output_type": "stream",
     "text": [
      "TL:DR\n",
      "Import was 2.40x faster with feather\n",
      "Conversion was 43.47x faster with built-ins VS .apply and lambda\n",
      "---------------------------------------\n",
      "CSV load time: 2.2843637466430664\n",
      "Feather load time: 0.9531755447387695\n",
      "CSV datetime conversion & creation: 7.775021314620972\n",
      "Feather datetime conversion & creation: 0.1788463592529297\n"
     ]
    }
   ],
   "source": [
    "importing = time_csv_1 / time_feather_1\n",
    "conversion = time_csv_2 / time_feather_2\n",
    "\n",
    "print('TL;DR')\n",
    "print(f'Import was {importing:.2f}x faster with feather')\n",
    "print(f'Conversion was {conversion:.2f}x faster with built-ins VS .apply and lambda')\n",
    "print('---------------------------------------')\n",
    "print(f'CSV load time: {time_csv_1}')\n",
    "print(f'Feather load time: {time_feather_1}')\n",
    "\n",
    "print(f'CSV datetime conversion & creation: {time_csv_2}')\n",
    "print(f'Feather datetime conversion & creation: {time_feather_2}')"
   ]
  },
  {
   "cell_type": "code",
   "execution_count": 27,
   "metadata": {},
   "outputs": [],
   "source": [
    "# remove created files\n",
    "os.remove('AMAZON_FASHION.csv')\n",
    "os.remove('AMAZON_FASHION.feather')\n",
    "os.remove('AMAZON_FASHION.json.gz')"
   ]
  },
  {
   "cell_type": "markdown",
   "metadata": {},
   "source": [
    "## Office Products data (~5.5M reviews)"
   ]
  },
  {
   "cell_type": "code",
   "execution_count": 28,
   "metadata": {},
   "outputs": [
    {
     "name": "stdout",
     "output_type": "stream",
     "text": [
      "--2020-09-15 22:19:30--  http://deepyeti.ucsd.edu/jianmo/amazon/categoryFiles/Office_Products.json.gz\n",
      "Resolving deepyeti.ucsd.edu (deepyeti.ucsd.edu)... 169.228.63.50\n",
      "Connecting to deepyeti.ucsd.edu (deepyeti.ucsd.edu)|169.228.63.50|:80... connected.\n",
      "HTTP request sent, awaiting response... 200 OK\n",
      "Length: 698526945 (666M) [application/octet-stream]\n",
      "Saving to: ‘Office_Products.json.gz’\n",
      "\n",
      "Office_Products.jso 100%[===================>] 666.17M  22.1MB/s    in 30s     \n",
      "\n",
      "2020-09-15 22:20:01 (21.9 MB/s) - ‘Office_Products.json.gz’ saved [698526945/698526945]\n",
      "\n"
     ]
    }
   ],
   "source": [
    "# download the data\n",
    "!wget http://deepyeti.ucsd.edu/jianmo/amazon/categoryFiles/Office_Products.json.gz\n",
    "\n",
    "### load the meta data\n",
    "data = []\n",
    "with gzip.open('Office_Products.json.gz') as f:\n",
    "    for l in f:\n",
    "        data.append(json.loads(l.strip()))\n",
    "        \n",
    "# convert list into pandas dataframe\n",
    "df_office = pd.DataFrame.from_dict(data)"
   ]
  },
  {
   "cell_type": "markdown",
   "metadata": {},
   "source": [
    "Sum up the null columns\n",
    "\n",
    "Drop the unneeded columns\n",
    "\n",
    "Save the data as a csv & feather format"
   ]
  },
  {
   "cell_type": "code",
   "execution_count": 29,
   "metadata": {},
   "outputs": [
    {
     "data": {
      "text/plain": [
       "overall                 0\n",
       "vote              4954740\n",
       "verified                0\n",
       "reviewTime              0\n",
       "reviewerID              0\n",
       "asin                    0\n",
       "style             2747821\n",
       "reviewerName          428\n",
       "reviewText           2830\n",
       "summary              1305\n",
       "unixReviewTime          0\n",
       "image             5486173\n",
       "dtype: int64"
      ]
     },
     "execution_count": 29,
     "metadata": {},
     "output_type": "execute_result"
    }
   ],
   "source": [
    "# check for columns with nulls\n",
    "df_office.isnull().sum()"
   ]
  },
  {
   "cell_type": "code",
   "execution_count": 30,
   "metadata": {},
   "outputs": [
    {
     "name": "stdout",
     "output_type": "stream",
     "text": [
      "(5581313, 5)\n"
     ]
    }
   ],
   "source": [
    "# drop columns containing nulls\n",
    "df_office = df_office.drop(columns=['vote', 'reviewTime', 'asin', 'reviewerID', 'image', 'verified', 'style'])\n",
    "\n",
    "#print current shapes\n",
    "print(df_office.shape)\n",
    "\n",
    "# saving the dataframe \n",
    "df_office.to_csv('Office_Products.csv')\n",
    "\n",
    "# save in feather format\n",
    "df_office.to_feather('Office_Products.feather')"
   ]
  },
  {
   "cell_type": "markdown",
   "metadata": {},
   "source": [
    "Read in the csv as a pandas dataframe and print out the shape - time it\n",
    "\n",
    "Save time as a variable for later usage/comparison"
   ]
  },
  {
   "cell_type": "code",
   "execution_count": 31,
   "metadata": {},
   "outputs": [
    {
     "name": "stdout",
     "output_type": "stream",
     "text": [
      "(5581313, 6)\n",
      "Time: 16.85\n"
     ]
    }
   ],
   "source": [
    "startTime = time.time()\n",
    "\n",
    "#load csvs\n",
    "df_office = pd.read_csv('Office_Products.csv')\n",
    "\n",
    "#print current shape\n",
    "print(df_office.shape)\n",
    "\n",
    "# print time & save time for later comparison\n",
    "time_csv_1 = time.time() - startTime\n",
    "print(f'Time: {time_csv_1:.2f}')"
   ]
  },
  {
   "cell_type": "markdown",
   "metadata": {},
   "source": [
    "Transform the date column using `.apply` and a `lambda` function - time it\n",
    "\n",
    "Save time as a variable for later usage/comparison"
   ]
  },
  {
   "cell_type": "code",
   "execution_count": 33,
   "metadata": {},
   "outputs": [
    {
     "name": "stdout",
     "output_type": "stream",
     "text": [
      "(5581313, 6)\n"
     ]
    }
   ],
   "source": [
    "df_office.columns\n",
    "print(df_office.shape)"
   ]
  },
  {
   "cell_type": "code",
   "execution_count": 34,
   "metadata": {},
   "outputs": [
    {
     "name": "stdout",
     "output_type": "stream",
     "text": [
      "(5581313, 9)\n",
      "Time: 51.50\n"
     ]
    }
   ],
   "source": [
    "startTime = time.time()\n",
    "\n",
    "# converting 'reviewTime' to pandas datetime\n",
    "df_office['datetime'] = pd.to_datetime(df_office['unixReviewTime'], unit='s')\n",
    "\n",
    "# created sep column for 'Year' \n",
    "df_office['Year'] = df_office['datetime'].apply(lambda x: \"%d\" % (x.year))\n",
    "# created sep column for 'Year' \n",
    "df_office['Month'] = df_office['datetime'].apply(lambda x: \"%d\" % (x.month))\n",
    "\n",
    "# print shape to confirm\n",
    "print(df_office.shape)\n",
    "\n",
    "# print time & save time for later comparison\n",
    "time_csv_2 = time.time() - startTime\n",
    "print(f'Time: {time_csv_2:.2f}')"
   ]
  },
  {
   "cell_type": "markdown",
   "metadata": {},
   "source": [
    "Read in the `.feather` file as a pandas dataframe and print out the shape - time it\n",
    "\n",
    "Save time as a variable for later usage/comparison"
   ]
  },
  {
   "cell_type": "code",
   "execution_count": 35,
   "metadata": {},
   "outputs": [
    {
     "name": "stdout",
     "output_type": "stream",
     "text": [
      "(5581313, 5)\n",
      "Time: 7.92\n"
     ]
    }
   ],
   "source": [
    "startTime = time.time()\n",
    "\n",
    "# read in feather format\n",
    "df_office = feather.read_dataframe('Office_Products.feather')\n",
    "\n",
    "#print current shape to confirm\n",
    "print(df_office.shape)\n",
    "\n",
    "# print time & save time for later comparison\n",
    "time_feather_1 = time.time() - startTime\n",
    "print(f'Time: {time_feather_1:.2f}')"
   ]
  },
  {
   "cell_type": "markdown",
   "metadata": {},
   "source": [
    "Using built in unix -> datetime conversion and pull out years/month to separate columsn ([stackoverflow](https://stackoverflow.com/questions/62292464/how-do-i-add-a-year-and-month-columns-to-my-pandas-dataframe-using-unix-timestam))\n",
    "- time it\n",
    "\n",
    "Save time as a variable for later usage/comparison"
   ]
  },
  {
   "cell_type": "code",
   "execution_count": 36,
   "metadata": {},
   "outputs": [
    {
     "name": "stdout",
     "output_type": "stream",
     "text": [
      "(5581313, 7)\n",
      "Time: 1.04\n"
     ]
    }
   ],
   "source": [
    "startTime = time.time()\n",
    "\n",
    "#Convert unix timestamps to datetime.\n",
    "df_office['datetime'] = pd.to_datetime(df_office['unixReviewTime'],unit='s')\n",
    "\n",
    "#Set the 'datetime' field to be the index.\n",
    "df_office.set_index('datetime',inplace=True)\n",
    "\n",
    "#Extract the month from the index.\n",
    "df_office['Month'] = df_office.index.month\n",
    "\n",
    "#Extract the year from the index.\n",
    "df_office['Year'] = df_office.index.year\n",
    "\n",
    "# note that that the shape will have one less bc the 'datetime' as the index isn't counted\n",
    "print(df_office.shape)\n",
    "\n",
    "time_feather_2 = time.time() - startTime\n",
    "print(f'Time: {time_feather_2:.2f}')"
   ]
  },
  {
   "cell_type": "markdown",
   "metadata": {},
   "source": [
    "Time comparison of \n",
    "\n",
    "1) `csv` VS `feather` files\n",
    "\n",
    "2) `.apply` & `lambda` VS native pandas conversions"
   ]
  },
  {
   "cell_type": "code",
   "execution_count": 37,
   "metadata": {},
   "outputs": [
    {
     "name": "stdout",
     "output_type": "stream",
     "text": [
      "TL:DR\n",
      "Import was 2.13x faster with feather\n",
      "Conversion was 49.54x faster with built-ins VS .apply and lambda\n"
     ]
    }
   ],
   "source": [
    "importing = time_csv_1 / time_feather_1\n",
    "conversion = time_csv_2 / time_feather_2\n",
    "\n",
    "print('TL;DR')\n",
    "print(f'Import was {importing:.2f}x faster with feather')\n",
    "print(f'Conversion was {conversion:.2f}x faster with built-ins VS .apply and lambda')"
   ]
  },
  {
   "cell_type": "code",
   "execution_count": null,
   "metadata": {},
   "outputs": [],
   "source": [
    "importing = time_csv_1 / time_feather_1\n",
    "conversion = time_csv_2 / time_feather_2\n",
    "\n",
    "print('TL;DR')\n",
    "print(f'Import was {importing:.2f}x faster with feather')\n",
    "print(f'Conversion was {conversion:.2f}x faster with built-ins VS .apply and lambda')\n",
    "print('---------------------------------------')\n",
    "print(f'CSV load time: {time_csv_1}')\n",
    "print(f'Feather load time: {time_feather_1}')\n",
    "\n",
    "print(f'CSV datetime conversion & creation: {time_csv_2}')\n",
    "print(f'Feather datetime conversion & creation: {time_feather_2}')"
   ]
  },
  {
   "cell_type": "code",
   "execution_count": 41,
   "metadata": {},
   "outputs": [],
   "source": [
    "# remove created files\n",
    "\n",
    "os.remove('Office_Products.csv')\n",
    "os.remove('Office_Products.feather') \n",
    "os.remove('Office_Products.json.gz')"
   ]
  },
  {
   "cell_type": "markdown",
   "metadata": {},
   "source": [
    "## Home & Kitchen data (~21.9M reviews)"
   ]
  },
  {
   "cell_type": "code",
   "execution_count": 42,
   "metadata": {},
   "outputs": [
    {
     "name": "stdout",
     "output_type": "stream",
     "text": [
      "--2020-09-15 22:29:10--  http://deepyeti.ucsd.edu/jianmo/amazon/categoryFiles/Home_and_Kitchen.json.gz\n",
      "Resolving deepyeti.ucsd.edu (deepyeti.ucsd.edu)... 169.228.63.50\n",
      "Connecting to deepyeti.ucsd.edu (deepyeti.ucsd.edu)|169.228.63.50|:80... connected.\n",
      "HTTP request sent, awaiting response... 200 OK\n",
      "Length: 2746323773 (2.6G) [application/octet-stream]\n",
      "Saving to: ‘Home_and_Kitchen.json.gz’\n",
      "\n",
      "Home_and_Kitchen.js 100%[===================>]   2.56G  8.20MB/s    in 3m 50s  \n",
      "\n",
      "2020-09-15 22:33:00 (11.4 MB/s) - ‘Home_and_Kitchen.json.gz’ saved [2746323773/2746323773]\n",
      "\n"
     ]
    }
   ],
   "source": [
    "# download the data\n",
    "!wget http://deepyeti.ucsd.edu/jianmo/amazon/categoryFiles/Home_and_Kitchen.json.gz\n",
    "\n",
    "### load the meta data\n",
    "data = []\n",
    "with gzip.open('Home_and_Kitchen.json.gz') as f:\n",
    "    for l in f:\n",
    "        data.append(json.loads(l.strip()))\n",
    "        \n",
    "# convert list into pandas dataframe\n",
    "df_home_kitchen = pd.DataFrame.from_dict(data)"
   ]
  },
  {
   "cell_type": "markdown",
   "metadata": {},
   "source": [
    "Sum up the null columns\n",
    "\n",
    "Drop the unneeded columns\n",
    "\n",
    "Save the data as a csv & feather format"
   ]
  },
  {
   "cell_type": "code",
   "execution_count": 43,
   "metadata": {},
   "outputs": [
    {
     "data": {
      "text/plain": [
       "overall                  0\n",
       "vote              19117548\n",
       "verified                 0\n",
       "reviewTime               0\n",
       "reviewerID               0\n",
       "asin                     0\n",
       "reviewerName          1160\n",
       "reviewText           14866\n",
       "summary               5781\n",
       "unixReviewTime           0\n",
       "style              9785019\n",
       "image             21296935\n",
       "dtype: int64"
      ]
     },
     "execution_count": 43,
     "metadata": {},
     "output_type": "execute_result"
    }
   ],
   "source": [
    "# check for columns with nulls\n",
    "df_home_kitchen.isnull().sum()"
   ]
  },
  {
   "cell_type": "code",
   "execution_count": 44,
   "metadata": {},
   "outputs": [
    {
     "name": "stdout",
     "output_type": "stream",
     "text": [
      "(21928568, 5)\n"
     ]
    }
   ],
   "source": [
    "# drop columns containing nulls\n",
    "df_home_kitchen = df_home_kitchen.drop(columns=['vote', 'reviewTime', 'asin', 'reviewerID', 'image', 'verified', 'style'])\n",
    "\n",
    "#print current shapes\n",
    "print(df_home_kitchen.shape)\n",
    "\n",
    "# saving the dataframe \n",
    "df_home_kitchen.to_csv('Home_and_Kitchen.csv')\n",
    "\n",
    "# save in feather format\n",
    "df_home_kitchen.to_feather('Home_and_Kitchen.feather')"
   ]
  },
  {
   "cell_type": "markdown",
   "metadata": {},
   "source": [
    "Read in the csv as a pandas dataframe and print out the shape - time it\n",
    "\n",
    "Save time as a variable for later usage/comparison"
   ]
  },
  {
   "cell_type": "code",
   "execution_count": 4,
   "metadata": {},
   "outputs": [
    {
     "name": "stdout",
     "output_type": "stream",
     "text": [
      "(21928568, 6)\n",
      "Time: 79.51\n"
     ]
    }
   ],
   "source": [
    "startTime = time.time()\n",
    "\n",
    "#load csvs\n",
    "df_home_kitchen = pd.read_csv('Home_and_Kitchen.csv')\n",
    "\n",
    "#print current shape\n",
    "print(df_home_kitchen.shape)\n",
    "\n",
    "# print time & save time for later comparison\n",
    "time_csv_1 = time.time() - startTime\n",
    "print(f'Time: {time_csv_1:.2f}')"
   ]
  },
  {
   "cell_type": "markdown",
   "metadata": {},
   "source": [
    "Transform the date column using `.apply` and a `lambda` function - time it\n",
    "\n",
    "Save time as a variable for later usage/comparison"
   ]
  },
  {
   "cell_type": "code",
   "execution_count": 5,
   "metadata": {},
   "outputs": [
    {
     "name": "stdout",
     "output_type": "stream",
     "text": [
      "(21928568, 6)\n"
     ]
    }
   ],
   "source": [
    "df_home_kitchen.columns\n",
    "print(df_home_kitchen.shape)"
   ]
  },
  {
   "cell_type": "code",
   "execution_count": 6,
   "metadata": {},
   "outputs": [
    {
     "name": "stdout",
     "output_type": "stream",
     "text": [
      "(21928568, 9)\n",
      "Time: 148.03\n"
     ]
    }
   ],
   "source": [
    "startTime = time.time()\n",
    "\n",
    "# converting 'reviewTime' to pandas datetime\n",
    "df_home_kitchen['datetime'] = pd.to_datetime(df_home_kitchen['unixReviewTime'], unit='s')\n",
    "\n",
    "# created sep column for 'Year' \n",
    "df_home_kitchen['Year'] = df_home_kitchen['datetime'].apply(lambda x: \"%d\" % (x.year))\n",
    "# created sep column for 'Year' \n",
    "df_home_kitchen['Month'] = df_home_kitchen['datetime'].apply(lambda x: \"%d\" % (x.month))\n",
    "\n",
    "# print shape to confirm\n",
    "print(df_home_kitchen.shape)\n",
    "\n",
    "# print time & save time for later comparison\n",
    "time_csv_2 = time.time() - startTime\n",
    "print(f'Time: {time_csv_2:.2f}')"
   ]
  },
  {
   "cell_type": "markdown",
   "metadata": {},
   "source": [
    "Read in the `.feather` file as a pandas dataframe and print out the shape - time it\n",
    "\n",
    "Save time as a variable for later usage/comparison"
   ]
  },
  {
   "cell_type": "code",
   "execution_count": 7,
   "metadata": {},
   "outputs": [
    {
     "name": "stdout",
     "output_type": "stream",
     "text": [
      "(21928568, 5)\n",
      "Time: 54.63\n"
     ]
    }
   ],
   "source": [
    "startTime = time.time()\n",
    "\n",
    "# read in feather format\n",
    "df_home_kitchen = feather.read_dataframe('Home_and_Kitchen.feather')\n",
    "\n",
    "#print current shape to confirm\n",
    "print(df_home_kitchen.shape)\n",
    "\n",
    "# print time & save time for later comparison\n",
    "time_feather_1 = time.time() - startTime\n",
    "print(f'Time: {time_feather_1:.2f}')"
   ]
  },
  {
   "cell_type": "markdown",
   "metadata": {},
   "source": [
    "Using built in unix -> datetime conversion and pull out years/month to separate columsn ([stackoverflow](https://stackoverflow.com/questions/62292464/how-do-i-add-a-year-and-month-columns-to-my-pandas-dataframe-using-unix-timestam))\n",
    "- time it\n",
    "\n",
    "Save time as a variable for later usage/comparison"
   ]
  },
  {
   "cell_type": "code",
   "execution_count": 8,
   "metadata": {},
   "outputs": [
    {
     "name": "stdout",
     "output_type": "stream",
     "text": [
      "(21928568, 7)\n",
      "Time: 4.30\n"
     ]
    }
   ],
   "source": [
    "startTime = time.time()\n",
    "\n",
    "#Convert unix timestamps to datetime.\n",
    "df_home_kitchen['datetime'] = pd.to_datetime(df_home_kitchen['unixReviewTime'],unit='s')\n",
    "\n",
    "#Set the 'datetime' field to be the index.\n",
    "df_home_kitchen.set_index('datetime',inplace=True)\n",
    "\n",
    "#Extract the month from the index.\n",
    "df_home_kitchen['Month'] = df_home_kitchen.index.month\n",
    "\n",
    "#Extract the year from the index.\n",
    "df_home_kitchen['Year'] = df_home_kitchen.index.year\n",
    "\n",
    "# note that that the shape will have one less bc the 'datetime' as the index isn't counted\n",
    "print(df_home_kitchen.shape)\n",
    "\n",
    "time_feather_2 = time.time() - startTime\n",
    "print(f'Time: {time_feather_2:.2f}')"
   ]
  },
  {
   "cell_type": "markdown",
   "metadata": {},
   "source": [
    "Time comparison of \n",
    "\n",
    "1) `csv` VS `feather` files\n",
    "\n",
    "2) `.apply` & `lambda` VS native pandas conversions"
   ]
  },
  {
   "cell_type": "code",
   "execution_count": 10,
   "metadata": {},
   "outputs": [
    {
     "name": "stdout",
     "output_type": "stream",
     "text": [
      "TL;DR\n",
      "Import was 1.46x faster with feather\n",
      "Conversion was 34.44x faster with built-ins VS .apply and lambda\n",
      "---------------------------------------\n",
      "CSV load time: 79.51262378692627\n",
      "Feather load time: 54.628734827041626\n",
      "CSV datetime conversion & creation: 148.0285828113556\n",
      "Feather datetime conversion & creation: 4.298145055770874\n"
     ]
    }
   ],
   "source": [
    "importing = time_csv_1 / time_feather_1\n",
    "conversion = time_csv_2 / time_feather_2\n",
    "\n",
    "print('TL;DR')\n",
    "print(f'Import was {importing:.2f}x faster with feather')\n",
    "print(f'Conversion was {conversion:.2f}x faster with built-ins VS .apply and lambda')\n",
    "print('---------------------------------------')\n",
    "print(f'CSV load time: {time_csv_1}')\n",
    "print(f'Feather load time: {time_feather_1}')\n",
    "\n",
    "print(f'CSV datetime conversion & creation: {time_csv_2}')\n",
    "print(f'Feather datetime conversion & creation: {time_feather_2}')"
   ]
  },
  {
   "cell_type": "code",
   "execution_count": 11,
   "metadata": {},
   "outputs": [],
   "source": [
    "# remove created files\n",
    "\n",
    "os.remove('Home_and_Kitchen.csv')\n",
    "os.remove('Home_and_Kitchen.feather') \n",
    "os.remove('Home_and_Kitchen.json.gz')"
   ]
  },
  {
   "cell_type": "markdown",
   "metadata": {},
   "source": [
    "## Books data (~51.3M reviews)"
   ]
  },
  {
   "cell_type": "code",
   "execution_count": null,
   "metadata": {},
   "outputs": [
    {
     "name": "stdout",
     "output_type": "stream",
     "text": [
      "--2020-09-15 22:59:58--  http://deepyeti.ucsd.edu/jianmo/amazon/categoryFiles/Books.json.gz\n",
      "Resolving deepyeti.ucsd.edu (deepyeti.ucsd.edu)... 169.228.63.50\n",
      "Connecting to deepyeti.ucsd.edu (deepyeti.ucsd.edu)|169.228.63.50|:80... connected.\n",
      "HTTP request sent, awaiting response... 200 OK\n",
      "Length: 11813848069 (11G) [application/octet-stream]\n",
      "Saving to: ‘Books.json.gz’\n",
      "\n",
      "Books.json.gz       100%[===================>]  11.00G  23.5MB/s    in 8m 6s   \n",
      "\n",
      "2020-09-15 23:08:05 (23.2 MB/s) - ‘Books.json.gz’ saved [11813848069/11813848069]\n",
      "\n"
     ]
    }
   ],
   "source": [
    "# download the data\n",
    "!wget http://deepyeti.ucsd.edu/jianmo/amazon/categoryFiles/Books.json.gz"
   ]
  },
  {
   "cell_type": "code",
   "execution_count": null,
   "metadata": {},
   "outputs": [],
   "source": [
    "### load the meta data\n",
    "data = []\n",
    "with gzip.open('Books.json.gz') as f:\n",
    "    for l in f:\n",
    "        data.append(json.loads(l.strip()))\n",
    "        \n",
    "# convert list into pandas dataframe\n",
    "df_books = pd.DataFrame.from_dict(data)"
   ]
  },
  {
   "cell_type": "markdown",
   "metadata": {},
   "source": [
    "Sum up the null columns\n",
    "\n",
    "Drop the unneeded columns\n",
    "\n",
    "Save the data as a csv & feather format"
   ]
  },
  {
   "cell_type": "code",
   "execution_count": null,
   "metadata": {},
   "outputs": [],
   "source": [
    "# check for columns with nulls\n",
    "df_books.isnull().sum()"
   ]
  },
  {
   "cell_type": "code",
   "execution_count": null,
   "metadata": {},
   "outputs": [],
   "source": [
    "# drop columns containing nulls\n",
    "df_books = df_books.drop(columns=['vote', 'reviewTime', 'asin', 'reviewerID', 'image', 'verified', 'style'])\n",
    "\n",
    "#print current shapes\n",
    "print(df_books.shape)\n",
    "\n",
    "# saving the dataframe \n",
    "df_books.to_csv('Books.csv')\n",
    "\n",
    "# save in feather format\n",
    "df_books.to_feather('Books.feather')"
   ]
  },
  {
   "cell_type": "markdown",
   "metadata": {},
   "source": [
    "Read in the csv as a pandas dataframe and print out the shape - time it\n",
    "\n",
    "Save time as a variable for later usage/comparison"
   ]
  },
  {
   "cell_type": "code",
   "execution_count": null,
   "metadata": {},
   "outputs": [],
   "source": [
    "startTime = time.time()\n",
    "\n",
    "#load csvs\n",
    "df_books = pd.read_csv('Books.csv')\n",
    "\n",
    "#print current shape\n",
    "print(df_books.shape)\n",
    "\n",
    "# print time & save time for later comparison\n",
    "time_csv_1 = time.time() - startTime\n",
    "print(f'Time: {time_csv_1:.2f}')"
   ]
  },
  {
   "cell_type": "markdown",
   "metadata": {},
   "source": [
    "Transform the date column using `.apply` and a `lambda` function - time it\n",
    "\n",
    "Save time as a variable for later usage/comparison"
   ]
  },
  {
   "cell_type": "code",
   "execution_count": null,
   "metadata": {},
   "outputs": [],
   "source": [
    "df_books.columns\n",
    "print(df_books.shape)"
   ]
  },
  {
   "cell_type": "code",
   "execution_count": null,
   "metadata": {},
   "outputs": [],
   "source": [
    "startTime = time.time()\n",
    "\n",
    "# converting 'reviewTime' to pandas datetime\n",
    "df_books['datetime'] = pd.to_datetime(df_books['unixReviewTime'], unit='s')\n",
    "\n",
    "# created sep column for 'Year' \n",
    "df_books['Year'] = df_books['datetime'].apply(lambda x: \"%d\" % (x.year))\n",
    "# created sep column for 'Year' \n",
    "df_books['Month'] = df_books['datetime'].apply(lambda x: \"%d\" % (x.month))\n",
    "\n",
    "# print shape to confirm\n",
    "print(df_books.shape)\n",
    "\n",
    "# print time & save time for later comparison\n",
    "time_csv_2 = time.time() - startTime\n",
    "print(f'Time: {time_csv_2:.2f}')"
   ]
  },
  {
   "cell_type": "markdown",
   "metadata": {},
   "source": [
    "Read in the `.feather` file as a pandas dataframe and print out the shape - time it\n",
    "\n",
    "Save time as a variable for later usage/comparison"
   ]
  },
  {
   "cell_type": "code",
   "execution_count": null,
   "metadata": {},
   "outputs": [],
   "source": [
    "startTime = time.time()\n",
    "\n",
    "# read in feather format\n",
    "df_books = feather.read_dataframe('Books.feather')\n",
    "\n",
    "#print current shape to confirm\n",
    "print(df_books.shape)\n",
    "\n",
    "# print time & save time for later comparison\n",
    "time_feather_1 = time.time() - startTime\n",
    "print(f'Time: {time_feather_1:.2f}')"
   ]
  },
  {
   "cell_type": "markdown",
   "metadata": {},
   "source": [
    "Using built in unix -> datetime conversion and pull out years/month to separate columsn ([stackoverflow](https://stackoverflow.com/questions/62292464/how-do-i-add-a-year-and-month-columns-to-my-pandas-dataframe-using-unix-timestam))\n",
    "- time it\n",
    "\n",
    "Save time as a variable for later usage/comparison"
   ]
  },
  {
   "cell_type": "code",
   "execution_count": null,
   "metadata": {},
   "outputs": [],
   "source": [
    "startTime = time.time()\n",
    "\n",
    "#Convert unix timestamps to datetime.\n",
    "df_books['datetime'] = pd.to_datetime(df_books['unixReviewTime'],unit='s')\n",
    "\n",
    "#Set the 'datetime' field to be the index.\n",
    "df_books.set_index('datetime',inplace=True)\n",
    "\n",
    "#Extract the month from the index.\n",
    "df_books['Month'] = df_books.index.month\n",
    "\n",
    "#Extract the year from the index.\n",
    "df_books['Year'] = df_books.index.year\n",
    "\n",
    "# note that that the shape will have one less bc the 'datetime' as the index isn't counted\n",
    "print(df_books.shape)\n",
    "\n",
    "time_feather_2 = time.time() - startTime\n",
    "print(f'Time: {time_feather_2:.2f}')"
   ]
  },
  {
   "cell_type": "markdown",
   "metadata": {},
   "source": [
    "Time comparison of \n",
    "\n",
    "1) `csv` VS `feather` files\n",
    "\n",
    "2) `.apply` & `lambda` VS native pandas conversions"
   ]
  },
  {
   "cell_type": "code",
   "execution_count": null,
   "metadata": {},
   "outputs": [],
   "source": [
    "importing = time_csv_1 / time_feather_1\n",
    "conversion = time_csv_2 / time_feather_2\n",
    "\n",
    "print('TL;DR')\n",
    "print(f'Import was {importing:.2f}x faster with feather')\n",
    "print(f'Conversion was {conversion:.2f}x faster with built-ins VS .apply and lambda')\n",
    "print('---------------------------------------')\n",
    "print(f'CSV load time: {time_csv_1}')\n",
    "print(f'Feather load time: {time_feather_1}')\n",
    "\n",
    "print(f'CSV datetime conversion & creation: {time_csv_2}')\n",
    "print(f'Feather datetime conversion & creation: {time_feather_2}')"
   ]
  },
  {
   "cell_type": "code",
   "execution_count": null,
   "metadata": {},
   "outputs": [],
   "source": [
    "# remove created files\n",
    "\n",
    "os.remove('Books.csv')\n",
    "os.remove('Books.feather') \n",
    "os.remove('Books.json.gz')"
   ]
  },
  {
   "cell_type": "markdown",
   "metadata": {},
   "source": [
    "Some interesting example data analyses we can start to do on millions of dates over 20+ years on Amazon"
   ]
  },
  {
   "cell_type": "code",
   "execution_count": 26,
   "metadata": {},
   "outputs": [
    {
     "data": {
      "image/png": "[encoded data removed]",
      "text/plain": [
       "<Figure size 864x360 with 1 Axes>"
      ]
     },
     "metadata": {
      "needs_background": "light"
     },
     "output_type": "display_data"
    }
   ],
   "source": [
    "plt.subplots(figsize = (12,5)) \n",
    "df_musical.groupby(['Month']).size().plot(kind='bar');"
   ]
  },
  {
   "cell_type": "code",
   "execution_count": 25,
   "metadata": {},
   "outputs": [
    {
     "data": {
      "image/png": "[encoded data removed]",
      "text/plain": [
       "<Figure size 864x360 with 1 Axes>"
      ]
     },
     "metadata": {
      "needs_background": "light"
     },
     "output_type": "display_data"
    }
   ],
   "source": [
    "plt.subplots(figsize = (12,5)) \n",
    "df_musical.groupby(['Year']).size().plot(kind='bar');"
   ]
  }
 ],
 "metadata": {
  "kernelspec": {
   "display_name": "conda_python3",
   "language": "python",
   "name": "conda_python3"
  },
  "language_info": {
   "codemirror_mode": {
    "name": "ipython",
    "version": 3
   },
   "file_extension": ".py",
   "mimetype": "text/x-python",
   "name": "python",
   "nbconvert_exporter": "python",
   "pygments_lexer": "ipython3",
   "version": "3.6.10"
  }
 },
 "nbformat": 4,
 "nbformat_minor": 4
}
