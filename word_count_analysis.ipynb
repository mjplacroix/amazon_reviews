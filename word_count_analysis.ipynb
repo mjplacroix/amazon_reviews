{
 "cells": [
  {
   "cell_type": "code",
   "execution_count": 1,
   "metadata": {},
   "outputs": [
    {
     "name": "stdout",
     "output_type": "stream",
     "text": [
      "Collecting pyarrow\n",
      "  Downloading pyarrow-1.0.1-cp36-cp36m-manylinux2014_x86_64.whl (17.3 MB)\n",
      "\u001b[K     |████████████████████████████████| 17.3 MB 15.9 MB/s eta 0:00:01\n",
      "\u001b[?25hRequirement already satisfied: numpy>=1.14 in /home/ec2-user/anaconda3/envs/python3/lib/python3.6/site-packages (from pyarrow) (1.18.1)\n",
      "Installing collected packages: pyarrow\n",
      "Successfully installed pyarrow-1.0.1\n",
      "\u001b[33mWARNING: You are using pip version 20.0.2; however, version 20.2.3 is available.\n",
      "You should consider upgrading via the '/home/ec2-user/anaconda3/envs/python3/bin/python -m pip install --upgrade pip' command.\u001b[0m\n",
      "Note: you may need to restart the kernel to use updated packages.\n"
     ]
    }
   ],
   "source": [
    "pip install pyarrow"
   ]
  },
  {
   "cell_type": "code",
   "execution_count": 2,
   "metadata": {},
   "outputs": [
    {
     "name": "stdout",
     "output_type": "stream",
     "text": [
      "Collecting feather-format\n",
      "  Downloading feather-format-0.4.1.tar.gz (3.2 kB)\n",
      "Requirement already satisfied: pyarrow>=0.4.0 in /home/ec2-user/anaconda3/envs/python3/lib/python3.6/site-packages (from feather-format) (1.0.1)\n",
      "Requirement already satisfied: numpy>=1.14 in /home/ec2-user/anaconda3/envs/python3/lib/python3.6/site-packages (from pyarrow>=0.4.0->feather-format) (1.18.1)\n",
      "Building wheels for collected packages: feather-format\n",
      "  Building wheel for feather-format (setup.py) ... \u001b[?25ldone\n",
      "\u001b[?25h  Created wheel for feather-format: filename=feather_format-0.4.1-py3-none-any.whl size=2453 sha256=f835be9371e01bb3b2cc2594dc1d7072837400cb1695b59a5852014862a18373\n",
      "  Stored in directory: /home/ec2-user/.cache/pip/wheels/9d/90/64/88411837e80bb520d15ae395f39359a5413e7a00ae63397e10\n",
      "Successfully built feather-format\n",
      "Installing collected packages: feather-format\n",
      "Successfully installed feather-format-0.4.1\n",
      "\u001b[33mWARNING: You are using pip version 20.0.2; however, version 20.2.3 is available.\n",
      "You should consider upgrading via the '/home/ec2-user/anaconda3/envs/python3/bin/python -m pip install --upgrade pip' command.\u001b[0m\n",
      "Note: you may need to restart the kernel to use updated packages.\n"
     ]
    }
   ],
   "source": [
    "pip install feather-format"
   ]
  },
  {
   "cell_type": "code",
   "execution_count": 3,
   "metadata": {},
   "outputs": [],
   "source": [
    "import pandas as pd\n",
    "import time\n",
    "import matplotlib.pyplot as plt\n",
    "import os\n",
    "import json\n",
    "import gzip\n",
    "from urllib.request import urlopen\n",
    "import feather \n",
    "import seaborn as sns"
   ]
  },
  {
   "cell_type": "code",
   "execution_count": 4,
   "metadata": {},
   "outputs": [],
   "source": [
    "# function below prepares data by unzipping, dropping several columns that are full of nulls or unnecessary data for this\n",
    "# particular analysis\n",
    "def data_prep(data_name):\n",
    "        \n",
    "    file_name = f'{data_name}.json.gz'\n",
    "    ### load the meta data\n",
    "    data = []\n",
    "    with gzip.open(file_name) as f:\n",
    "        for l in f:\n",
    "            data.append(json.loads(l.strip()))\n",
    "\n",
    "    # convert list into pandas dataframe\n",
    "    df = pd.DataFrame.from_dict(data)\n",
    "\n",
    "    # drop columns containing nulls\n",
    "    df = df.drop(columns=['reviewTime', 'asin', 'reviewerID', 'image', 'verified', 'style', 'summary', 'vote'])\n",
    "\n",
    "    #print current shapes\n",
    "    print(df.shape)\n",
    "    \n",
    "    feather_name = f'{data_name}.feather'\n",
    "\n",
    "    # save in feather format\n",
    "    df.to_feather(feather_name)\n",
    "\n",
    "    #Convert unix timestamps to datetime.\n",
    "    df['datetime'] = pd.to_datetime(df['unixReviewTime'],unit='s')\n",
    "    \n",
    "    # extract time-specific elements from datetime for further analysis    \n",
    "    df['Weekday'] = df['datetime'].dt.dayofweek\n",
    "    df['Month'] = df['datetime'].dt.month\n",
    "    df['Day'] = df['datetime'].dt.day\n",
    "    df['Year'] = df['datetime'].dt.year\n",
    "    df['Quarter'] = df['datetime'].dt.quarter\n",
    "    \n",
    "    #drop the rows containing a null (should be a few hundred max)\n",
    "    df = df.dropna()\n",
    "\n",
    "\n",
    "    # shape should be 4-5+ more columsn depending on how many features you added above\n",
    "    print(df.shape)\n",
    "    \n",
    "    return df"
   ]
  },
  {
   "cell_type": "code",
   "execution_count": 5,
   "metadata": {},
   "outputs": [
    {
     "name": "stdout",
     "output_type": "stream",
     "text": [
      "(471614, 4)\n",
      "(471197, 10)\n"
     ]
    }
   ],
   "source": [
    "df_prime = data_prep('Prime_Pantry')"
   ]
  },
  {
   "cell_type": "code",
   "execution_count": 6,
   "metadata": {},
   "outputs": [
    {
     "data": {
      "text/html": [
       "<div>\n",
       "<style scoped>\n",
       "    .dataframe tbody tr th:only-of-type {\n",
       "        vertical-align: middle;\n",
       "    }\n",
       "\n",
       "    .dataframe tbody tr th {\n",
       "        vertical-align: top;\n",
       "    }\n",
       "\n",
       "    .dataframe thead th {\n",
       "        text-align: right;\n",
       "    }\n",
       "</style>\n",
       "<table border=\"1\" class=\"dataframe\">\n",
       "  <thead>\n",
       "    <tr style=\"text-align: right;\">\n",
       "      <th></th>\n",
       "      <th>overall</th>\n",
       "      <th>reviewerName</th>\n",
       "      <th>reviewText</th>\n",
       "      <th>unixReviewTime</th>\n",
       "      <th>datetime</th>\n",
       "      <th>Weekday</th>\n",
       "      <th>Month</th>\n",
       "      <th>Day</th>\n",
       "      <th>Year</th>\n",
       "      <th>Quarter</th>\n",
       "    </tr>\n",
       "  </thead>\n",
       "  <tbody>\n",
       "    <tr>\n",
       "      <th>0</th>\n",
       "      <td>5.0</td>\n",
       "      <td>Tamara M.</td>\n",
       "      <td>Good clinging</td>\n",
       "      <td>1418515200</td>\n",
       "      <td>2014-12-14</td>\n",
       "      <td>6</td>\n",
       "      <td>12</td>\n",
       "      <td>14</td>\n",
       "      <td>2014</td>\n",
       "      <td>4</td>\n",
       "    </tr>\n",
       "    <tr>\n",
       "      <th>1</th>\n",
       "      <td>4.0</td>\n",
       "      <td>Amazon Customer</td>\n",
       "      <td>Fantastic buy and a good plastic wrap.  Even t...</td>\n",
       "      <td>1416441600</td>\n",
       "      <td>2014-11-20</td>\n",
       "      <td>3</td>\n",
       "      <td>11</td>\n",
       "      <td>20</td>\n",
       "      <td>2014</td>\n",
       "      <td>4</td>\n",
       "    </tr>\n",
       "    <tr>\n",
       "      <th>2</th>\n",
       "      <td>4.0</td>\n",
       "      <td>noname</td>\n",
       "      <td>ok</td>\n",
       "      <td>1412985600</td>\n",
       "      <td>2014-10-11</td>\n",
       "      <td>5</td>\n",
       "      <td>10</td>\n",
       "      <td>11</td>\n",
       "      <td>2014</td>\n",
       "      <td>4</td>\n",
       "    </tr>\n",
       "    <tr>\n",
       "      <th>3</th>\n",
       "      <td>3.0</td>\n",
       "      <td>ZapNZs</td>\n",
       "      <td>Saran Cling Plus is kind of like most of the C...</td>\n",
       "      <td>1409529600</td>\n",
       "      <td>2014-09-01</td>\n",
       "      <td>0</td>\n",
       "      <td>9</td>\n",
       "      <td>1</td>\n",
       "      <td>2014</td>\n",
       "      <td>3</td>\n",
       "    </tr>\n",
       "    <tr>\n",
       "      <th>4</th>\n",
       "      <td>4.0</td>\n",
       "      <td>Amy Rogers</td>\n",
       "      <td>This is my go to plastic wrap so there isn't m...</td>\n",
       "      <td>1407628800</td>\n",
       "      <td>2014-08-10</td>\n",
       "      <td>6</td>\n",
       "      <td>8</td>\n",
       "      <td>10</td>\n",
       "      <td>2014</td>\n",
       "      <td>3</td>\n",
       "    </tr>\n",
       "  </tbody>\n",
       "</table>\n",
       "</div>"
      ],
      "text/plain": [
       "   overall     reviewerName  \\\n",
       "0      5.0        Tamara M.   \n",
       "1      4.0  Amazon Customer   \n",
       "2      4.0           noname   \n",
       "3      3.0           ZapNZs   \n",
       "4      4.0       Amy Rogers   \n",
       "\n",
       "                                          reviewText  unixReviewTime  \\\n",
       "0                                      Good clinging      1418515200   \n",
       "1  Fantastic buy and a good plastic wrap.  Even t...      1416441600   \n",
       "2                                                 ok      1412985600   \n",
       "3  Saran Cling Plus is kind of like most of the C...      1409529600   \n",
       "4  This is my go to plastic wrap so there isn't m...      1407628800   \n",
       "\n",
       "    datetime  Weekday  Month  Day  Year  Quarter  \n",
       "0 2014-12-14        6     12   14  2014        4  \n",
       "1 2014-11-20        3     11   20  2014        4  \n",
       "2 2014-10-11        5     10   11  2014        4  \n",
       "3 2014-09-01        0      9    1  2014        3  \n",
       "4 2014-08-10        6      8   10  2014        3  "
      ]
     },
     "execution_count": 6,
     "metadata": {},
     "output_type": "execute_result"
    }
   ],
   "source": [
    "df_prime.head()"
   ]
  },
  {
   "cell_type": "code",
   "execution_count": 7,
   "metadata": {},
   "outputs": [
    {
     "data": {
      "text/plain": [
       "\"This is my go to plastic wrap so there isn't much bad I can say. Plastic wrap is kind of a pain when you are trying to get it off the roll and it sticks to itself. I don't seem to have that problem with cling plus. It comes out nice and rips off well. It usually sticks well to what i need it to. I will say i use it more to wrap things, then to go over containers. I just don't feel any plastic wrap sticks really well to plastic and glass bowls. So i use it sparingly for these purposes. If i need to wrap up something for my children's lunch this is the plastic wrap i would choose.\""
      ]
     },
     "execution_count": 7,
     "metadata": {},
     "output_type": "execute_result"
    }
   ],
   "source": [
    "df_prime['reviewText'][4]"
   ]
  },
  {
   "cell_type": "code",
   "execution_count": 8,
   "metadata": {},
   "outputs": [],
   "source": [
    "review_length = []\n",
    "\n",
    "for line in df_prime['reviewText']:\n",
    "    review_length.append(len(line))"
   ]
  },
  {
   "cell_type": "code",
   "execution_count": 9,
   "metadata": {},
   "outputs": [],
   "source": [
    "df_prime['Review Length'] = review_length"
   ]
  },
  {
   "cell_type": "code",
   "execution_count": 10,
   "metadata": {},
   "outputs": [
    {
     "data": {
      "text/plain": [
       "count    471197.000000\n",
       "mean        133.276776\n",
       "std         211.008861\n",
       "min           1.000000\n",
       "25%          25.000000\n",
       "50%          66.000000\n",
       "75%         155.000000\n",
       "max       10176.000000\n",
       "Name: Review Length, dtype: float64"
      ]
     },
     "execution_count": 10,
     "metadata": {},
     "output_type": "execute_result"
    }
   ],
   "source": [
    "df_prime['Review Length'].describe()"
   ]
  },
  {
   "cell_type": "code",
   "execution_count": 12,
   "metadata": {},
   "outputs": [
    {
     "data": {
      "text/html": [
       "<div>\n",
       "<style scoped>\n",
       "    .dataframe tbody tr th:only-of-type {\n",
       "        vertical-align: middle;\n",
       "    }\n",
       "\n",
       "    .dataframe tbody tr th {\n",
       "        vertical-align: top;\n",
       "    }\n",
       "\n",
       "    .dataframe thead th {\n",
       "        text-align: right;\n",
       "    }\n",
       "</style>\n",
       "<table border=\"1\" class=\"dataframe\">\n",
       "  <thead>\n",
       "    <tr style=\"text-align: right;\">\n",
       "      <th></th>\n",
       "      <th>overall</th>\n",
       "      <th>reviewerName</th>\n",
       "      <th>reviewText</th>\n",
       "      <th>unixReviewTime</th>\n",
       "      <th>datetime</th>\n",
       "      <th>Weekday</th>\n",
       "      <th>Month</th>\n",
       "      <th>Day</th>\n",
       "      <th>Year</th>\n",
       "      <th>Quarter</th>\n",
       "      <th>Review Length</th>\n",
       "    </tr>\n",
       "  </thead>\n",
       "  <tbody>\n",
       "    <tr>\n",
       "      <th>273</th>\n",
       "      <td>5.0</td>\n",
       "      <td>Louie</td>\n",
       "      <td>k</td>\n",
       "      <td>1439424000</td>\n",
       "      <td>2015-08-13</td>\n",
       "      <td>3</td>\n",
       "      <td>8</td>\n",
       "      <td>13</td>\n",
       "      <td>2015</td>\n",
       "      <td>3</td>\n",
       "      <td>1</td>\n",
       "    </tr>\n",
       "    <tr>\n",
       "      <th>342</th>\n",
       "      <td>5.0</td>\n",
       "      <td>Amazon Customer</td>\n",
       "      <td>1</td>\n",
       "      <td>1428710400</td>\n",
       "      <td>2015-04-11</td>\n",
       "      <td>5</td>\n",
       "      <td>4</td>\n",
       "      <td>11</td>\n",
       "      <td>2015</td>\n",
       "      <td>2</td>\n",
       "      <td>1</td>\n",
       "    </tr>\n",
       "    <tr>\n",
       "      <th>5768</th>\n",
       "      <td>4.0</td>\n",
       "      <td>Amazon Customer</td>\n",
       "      <td>a</td>\n",
       "      <td>1522108800</td>\n",
       "      <td>2018-03-27</td>\n",
       "      <td>1</td>\n",
       "      <td>3</td>\n",
       "      <td>27</td>\n",
       "      <td>2018</td>\n",
       "      <td>1</td>\n",
       "      <td>1</td>\n",
       "    </tr>\n",
       "    <tr>\n",
       "      <th>5836</th>\n",
       "      <td>5.0</td>\n",
       "      <td>JAMES</td>\n",
       "      <td>a</td>\n",
       "      <td>1504656000</td>\n",
       "      <td>2017-09-06</td>\n",
       "      <td>2</td>\n",
       "      <td>9</td>\n",
       "      <td>6</td>\n",
       "      <td>2017</td>\n",
       "      <td>3</td>\n",
       "      <td>1</td>\n",
       "    </tr>\n",
       "    <tr>\n",
       "      <th>6435</th>\n",
       "      <td>5.0</td>\n",
       "      <td>Lucy&amp;#039;s mom!!</td>\n",
       "      <td>A</td>\n",
       "      <td>1421193600</td>\n",
       "      <td>2015-01-14</td>\n",
       "      <td>2</td>\n",
       "      <td>1</td>\n",
       "      <td>14</td>\n",
       "      <td>2015</td>\n",
       "      <td>1</td>\n",
       "      <td>1</td>\n",
       "    </tr>\n",
       "    <tr>\n",
       "      <th>...</th>\n",
       "      <td>...</td>\n",
       "      <td>...</td>\n",
       "      <td>...</td>\n",
       "      <td>...</td>\n",
       "      <td>...</td>\n",
       "      <td>...</td>\n",
       "      <td>...</td>\n",
       "      <td>...</td>\n",
       "      <td>...</td>\n",
       "      <td>...</td>\n",
       "      <td>...</td>\n",
       "    </tr>\n",
       "    <tr>\n",
       "      <th>466565</th>\n",
       "      <td>4.0</td>\n",
       "      <td>joy trammell</td>\n",
       "      <td>k</td>\n",
       "      <td>1528329600</td>\n",
       "      <td>2018-06-07</td>\n",
       "      <td>3</td>\n",
       "      <td>6</td>\n",
       "      <td>7</td>\n",
       "      <td>2018</td>\n",
       "      <td>2</td>\n",
       "      <td>1</td>\n",
       "    </tr>\n",
       "    <tr>\n",
       "      <th>466999</th>\n",
       "      <td>5.0</td>\n",
       "      <td>Amazon Customer</td>\n",
       "      <td>k</td>\n",
       "      <td>1504310400</td>\n",
       "      <td>2017-09-02</td>\n",
       "      <td>5</td>\n",
       "      <td>9</td>\n",
       "      <td>2</td>\n",
       "      <td>2017</td>\n",
       "      <td>3</td>\n",
       "      <td>1</td>\n",
       "    </tr>\n",
       "    <tr>\n",
       "      <th>467336</th>\n",
       "      <td>4.0</td>\n",
       "      <td>joy trammell</td>\n",
       "      <td>k</td>\n",
       "      <td>1528329600</td>\n",
       "      <td>2018-06-07</td>\n",
       "      <td>3</td>\n",
       "      <td>6</td>\n",
       "      <td>7</td>\n",
       "      <td>2018</td>\n",
       "      <td>2</td>\n",
       "      <td>1</td>\n",
       "    </tr>\n",
       "    <tr>\n",
       "      <th>469282</th>\n",
       "      <td>5.0</td>\n",
       "      <td>Texas_Aggie</td>\n",
       "      <td>A</td>\n",
       "      <td>1508716800</td>\n",
       "      <td>2017-10-23</td>\n",
       "      <td>0</td>\n",
       "      <td>10</td>\n",
       "      <td>23</td>\n",
       "      <td>2017</td>\n",
       "      <td>4</td>\n",
       "      <td>1</td>\n",
       "    </tr>\n",
       "    <tr>\n",
       "      <th>471449</th>\n",
       "      <td>4.0</td>\n",
       "      <td>debera albertson</td>\n",
       "      <td>a</td>\n",
       "      <td>1512604800</td>\n",
       "      <td>2017-12-07</td>\n",
       "      <td>3</td>\n",
       "      <td>12</td>\n",
       "      <td>7</td>\n",
       "      <td>2017</td>\n",
       "      <td>4</td>\n",
       "      <td>1</td>\n",
       "    </tr>\n",
       "  </tbody>\n",
       "</table>\n",
       "<p>368 rows × 11 columns</p>\n",
       "</div>"
      ],
      "text/plain": [
       "        overall       reviewerName reviewText  unixReviewTime   datetime  \\\n",
       "273         5.0              Louie          k      1439424000 2015-08-13   \n",
       "342         5.0    Amazon Customer          1      1428710400 2015-04-11   \n",
       "5768        4.0    Amazon Customer          a      1522108800 2018-03-27   \n",
       "5836        5.0              JAMES          a      1504656000 2017-09-06   \n",
       "6435        5.0  Lucy&#039;s mom!!          A      1421193600 2015-01-14   \n",
       "...         ...                ...        ...             ...        ...   \n",
       "466565      4.0       joy trammell          k      1528329600 2018-06-07   \n",
       "466999      5.0    Amazon Customer          k      1504310400 2017-09-02   \n",
       "467336      4.0       joy trammell          k      1528329600 2018-06-07   \n",
       "469282      5.0        Texas_Aggie          A      1508716800 2017-10-23   \n",
       "471449      4.0   debera albertson          a      1512604800 2017-12-07   \n",
       "\n",
       "        Weekday  Month  Day  Year  Quarter  Review Length  \n",
       "273           3      8   13  2015        3              1  \n",
       "342           5      4   11  2015        2              1  \n",
       "5768          1      3   27  2018        1              1  \n",
       "5836          2      9    6  2017        3              1  \n",
       "6435          2      1   14  2015        1              1  \n",
       "...         ...    ...  ...   ...      ...            ...  \n",
       "466565        3      6    7  2018        2              1  \n",
       "466999        5      9    2  2017        3              1  \n",
       "467336        3      6    7  2018        2              1  \n",
       "469282        0     10   23  2017        4              1  \n",
       "471449        3     12    7  2017        4              1  \n",
       "\n",
       "[368 rows x 11 columns]"
      ]
     },
     "execution_count": 12,
     "metadata": {},
     "output_type": "execute_result"
    }
   ],
   "source": [
    "df_prime.loc[df_prime['Review Length'] == 1]"
   ]
  },
  {
   "cell_type": "code",
   "execution_count": 16,
   "metadata": {},
   "outputs": [
    {
     "data": {
      "text/plain": [
       "array(['k', '1', 'a', 'A', 'C', 'F', '4', '5', 'd', '.', 'f', 'c', 'K',\n",
       "       'B', 'b', ' ', '7', 'e'], dtype=object)"
      ]
     },
     "execution_count": 16,
     "metadata": {},
     "output_type": "execute_result"
    }
   ],
   "source": [
    "df_prime[df_prime['Review Length'] == 1]['reviewText'].unique()"
   ]
  },
  {
   "cell_type": "markdown",
   "metadata": {},
   "source": [
    "At first glance, the `reviewText` column of just single characters seemed like an odd, even random collection, especially when looking at a nonrepeating unique list of which characters were used. But when we do a tally below of how often each character was used, it suddenly makes a lot more sense. The sum of the first 4 characters - `'a', 'A', '1', 'k'` - account for over 80% of the entries. This tells me that people were being asked to input a review and they just wanted to skip that step so they stuck something there. "
   ]
  },
  {
   "cell_type": "code",
   "execution_count": 24,
   "metadata": {},
   "outputs": [
    {
     "name": "stdout",
     "output_type": "stream",
     "text": [
      "0.8260869565217391\n",
      "368\n"
     ]
    },
    {
     "data": {
      "text/plain": [
       "a    90\n",
       "A    87\n",
       "1    83\n",
       "k    44\n",
       "d    17\n",
       "f     8\n",
       "K     6\n",
       "B     6\n",
       ".     6\n",
       "4     5\n",
       "C     4\n",
       "5     4\n",
       "c     2\n",
       "F     2\n",
       "      1\n",
       "e     1\n",
       "7     1\n",
       "b     1\n",
       "Name: reviewText, dtype: int64"
      ]
     },
     "execution_count": 24,
     "metadata": {},
     "output_type": "execute_result"
    }
   ],
   "source": [
    "print((90 + 87 + 83 + 44) / 368)\n",
    "print(df_prime[df_prime['Review Length'] == 1]['reviewText'].count())\n",
    "\n",
    "df_prime[df_prime['Review Length'] == 1]['reviewText'].value_counts()"
   ]
  },
  {
   "cell_type": "markdown",
   "metadata": {},
   "source": [
    "What I'm curious to see is how many A) occurances and B) variants of `n/a` there are. \n",
    "\n",
    "Looking for `'na' - 'n/a' - 'NA' - 'N/A'` here"
   ]
  },
  {
   "cell_type": "code",
   "execution_count": 25,
   "metadata": {},
   "outputs": [
    {
     "data": {
      "text/plain": [
       "2401"
      ]
     },
     "execution_count": 25,
     "metadata": {},
     "output_type": "execute_result"
    }
   ],
   "source": [
    "df_prime[df_prime['Review Length'] == 2]['reviewText'].count()"
   ]
  },
  {
   "cell_type": "code",
   "execution_count": 26,
   "metadata": {},
   "outputs": [
    {
     "data": {
      "text/plain": [
       "array(['ok', 'ty', 'a+', 'A+', 'Ok', 'a1', 'OK', ':)', 'Ty', '.k', 'no',\n",
       "       'TY', '<3', ':0', 'NO', 'C!', 'aa', '=)', '#1', 'ew', '(:', 'gd',\n",
       "       'No', 'SO', 'A=', 'ya', 'so', 'Hi', ';)', 'A1', 'VG', '5*', 'vg',\n",
       "       'AA', 'hi', 'tx', 'A!', ':P', 'NC', '^^', 'eh', 'Me', ';0', '!!',\n",
       "       '#2', ':}', 'ha', 'TP', 'Eh', ':D', '..', 'Ew'], dtype=object)"
      ]
     },
     "execution_count": 26,
     "metadata": {},
     "output_type": "execute_result"
    }
   ],
   "source": [
    "df_prime[df_prime['Review Length'] == 2]['reviewText'].unique()"
   ]
  },
  {
   "cell_type": "code",
   "execution_count": 27,
   "metadata": {},
   "outputs": [
    {
     "data": {
      "text/plain": [
       "1570"
      ]
     },
     "execution_count": 27,
     "metadata": {},
     "output_type": "execute_result"
    }
   ],
   "source": [
    "df_prime[df_prime['Review Length'] == 3]['reviewText'].count()"
   ]
  },
  {
   "cell_type": "code",
   "execution_count": 28,
   "metadata": {},
   "outputs": [
    {
     "data": {
      "text/plain": [
       "array(['Ty!', 'AAA', 'yum', 'ok.', 'Yum', 'Duh', 'God', 'Eww', 'A++',\n",
       "       'YUM', 'yes', 'Meh', ':-)', 'Ok.', ':-D', 'yuk', 'yup', 'Yes',\n",
       "       '***', 'Fab', 'THX', ';-)', 'bye', 'Fav', 'A-1', 'old', 'Lov',\n",
       "       'PBJ', 'Umm', 'aok', 'yay', 'yep', 'thx', 'Yuk', 'wow', 'meh',\n",
       "       'joy', 'Fun', 'BOB', 'nom', 'Gr8', ':D ', 'gr8', 'Yup', 'GTG',\n",
       "       'YES', 'ugg', 'new', 'god', 'Wow', 'Tks', 'umm', 'I  ', 'Num',\n",
       "       'Thx', 'woo', 'OK.', 'omg', 'FYI', 'ook', ' it', '( :', 'OK,',\n",
       "       'A#1', 'Aok', 'YUP', 'bad', 'NTS', 'aaa', 'AOK', 'H2o', 'H20',\n",
       "       'H2O', 'YEP', 'gtg', 'YAY', 'Buy', 'big', 'dry', 'Dry', 'WOW',\n",
       "       'ATE', 'gas', 'OMG', 'sty', 'YUK', 'fgk', 'Yep', '5/5', 'out',\n",
       "       'Ok!', 'ok!', ': )', 'hot', 'fab', 'MSG', 'tea', 'a +', 'Met',\n",
       "       'ugh', 'ok-', 'fun', 'o.k', 'mmk', '1!!', 'Use', 'WIN', 'A +',\n",
       "       'fav', '\" )', ':))', '= )', ':0)', 'nah', 'Grt', 'Eh!', 'Old',\n",
       "       'YEA', 'Mmm', 'Woe', 'eh!', 'Pav', 'luv', 'Sof', 'Bad', 'lov',\n",
       "       'YEs', 'oko', 'NOT', 'NTA', 'BIG', 'fit', 'Not', 'got', 'no.',\n",
       "       'DRY', 'Ehh', 'No.', 'BHT', 'bud', 'eww', 'N A', 'yrm', 'Luv',\n",
       "       'wet', 'TY!', 'Okk', 'OK!', 'goo', 'lut', 'lol', 'tks', 'ick'],\n",
       "      dtype=object)"
      ]
     },
     "execution_count": 28,
     "metadata": {},
     "output_type": "execute_result"
    }
   ],
   "source": [
    "df_prime[df_prime['Review Length'] == 3]['reviewText'].unique()"
   ]
  },
  {
   "cell_type": "code",
   "execution_count": 35,
   "metadata": {},
   "outputs": [
    {
     "data": {
      "text/plain": [
       "11    8352\n",
       "10    8124\n",
       "4     7806\n",
       "12    7616\n",
       "5     7545\n",
       "9     7482\n",
       "13    6431\n",
       "14    5048\n",
       "17    4782\n",
       "15    4657\n",
       "18    4645\n",
       "16    4381\n",
       "19    4347\n",
       "20    4206\n",
       "25    4050\n",
       "Name: Review Length, dtype: int64"
      ]
     },
     "execution_count": 35,
     "metadata": {},
     "output_type": "execute_result"
    }
   ],
   "source": [
    "df_prime['Review Length'].value_counts()[0:15]"
   ]
  },
  {
   "cell_type": "code",
   "execution_count": 37,
   "metadata": {},
   "outputs": [
    {
     "data": {
      "text/plain": [
       "As expected    450\n",
       "as expected    439\n",
       "Great price    295\n",
       "works great    270\n",
       "great price    249\n",
       "Works great    239\n",
       "Great taste    188\n",
       "Great value    154\n",
       "great taste    137\n",
       "Good stuff.    113\n",
       "Taste great    103\n",
       "taste great     97\n",
       "Love these!     92\n",
       "Works well.     91\n",
       "great value     90\n",
       "Name: reviewText, dtype: int64"
      ]
     },
     "execution_count": 37,
     "metadata": {},
     "output_type": "execute_result"
    }
   ],
   "source": [
    "df_prime[df_prime['Review Length'] == 11]['reviewText'].value_counts()[0:15]"
   ]
  },
  {
   "cell_type": "code",
   "execution_count": 38,
   "metadata": {},
   "outputs": [
    {
     "data": {
      "text/plain": [
       "Delicious!    604\n",
       "good stuff    315\n",
       "good price    270\n",
       "Good stuff    251\n",
       "Good price    193\n",
       "Very good.    185\n",
       "Excellent!    176\n",
       "Delicious.    167\n",
       "works well    153\n",
       "Works well    151\n",
       "Very good!    137\n",
       "Love these    130\n",
       "Good value    114\n",
       "Thank you!    113\n",
       "good value    111\n",
       "Name: reviewText, dtype: int64"
      ]
     },
     "execution_count": 38,
     "metadata": {},
     "output_type": "execute_result"
    }
   ],
   "source": [
    "df_prime[df_prime['Review Length'] == 10]['reviewText'].value_counts()[0:15]"
   ]
  },
  {
   "cell_type": "code",
   "execution_count": 39,
   "metadata": {},
   "outputs": [
    {
     "data": {
      "text/plain": [
       "good             2789\n",
       "Good             2122\n",
       "great            1964\n",
       "Great            1726\n",
       "ok               1142\n",
       "Great product     804\n",
       "love it           673\n",
       "Great!            660\n",
       "Delicious!        604\n",
       "Love it           580\n",
       "Delicious         560\n",
       "yummy             554\n",
       "Yummy             541\n",
       "very good         538\n",
       "Good product      535\n",
       "Name: reviewText, dtype: int64"
      ]
     },
     "execution_count": 39,
     "metadata": {},
     "output_type": "execute_result"
    }
   ],
   "source": [
    "df_prime['reviewText'].value_counts()[0:15]"
   ]
  },
  {
   "cell_type": "code",
   "execution_count": 40,
   "metadata": {},
   "outputs": [
    {
     "data": {
      "text/plain": [
       "good    2789\n",
       "Good    2122\n",
       "Yum!     309\n",
       "nice     303\n",
       "love     266\n",
       "Nice     232\n",
       "GOOD     152\n",
       "Love     127\n",
       "fine     120\n",
       "okay      80\n",
       "Yum.      61\n",
       "Okay      60\n",
       "YUM!      57\n",
       "none      54\n",
       "Fine      52\n",
       "Name: reviewText, dtype: int64"
      ]
     },
     "execution_count": 40,
     "metadata": {},
     "output_type": "execute_result"
    }
   ],
   "source": [
    "df_prime[df_prime['Review Length'] == 4]['reviewText'].value_counts()[0:15]"
   ]
  },
  {
   "cell_type": "markdown",
   "metadata": {},
   "source": [
    "I'm curious how similar these metrics are across a couple other catagories like instruments and fashion\n",
    "\n",
    "### Instruments exploration"
   ]
  },
  {
   "cell_type": "code",
   "execution_count": 41,
   "metadata": {},
   "outputs": [
    {
     "name": "stdout",
     "output_type": "stream",
     "text": [
      "(1512530, 4)\n",
      "(1511526, 10)\n"
     ]
    }
   ],
   "source": [
    "df_instruments = data_prep('Musical_Instruments')"
   ]
  },
  {
   "cell_type": "code",
   "execution_count": 46,
   "metadata": {},
   "outputs": [],
   "source": [
    "review_length = []\n",
    "\n",
    "for line in df_instruments['reviewText']:\n",
    "    review_length.append(len(line))\n",
    "    \n",
    "df_instruments['Review Length'] = review_length"
   ]
  },
  {
   "cell_type": "code",
   "execution_count": 48,
   "metadata": {},
   "outputs": [
    {
     "name": "stdout",
     "output_type": "stream",
     "text": [
      "316\n",
      "['d' 'k' 'A' '1' 'a' 'c' 'E' 'K' 'C' 'D' 'e' 'B' 'f' 'b' ' ' '5' '.' '^'\n",
      " 'g']\n"
     ]
    },
    {
     "data": {
      "text/plain": [
       "a    77\n",
       "A    75\n",
       "k    46\n",
       "1    42\n",
       "K    23\n",
       "d    14\n",
       "f     8\n",
       "c     8\n",
       "B     3\n",
       "D     3\n",
       "C     3\n",
       "e     3\n",
       "      2\n",
       ".     2\n",
       "5     2\n",
       "E     2\n",
       "g     1\n",
       "^     1\n",
       "b     1\n",
       "Name: reviewText, dtype: int64"
      ]
     },
     "execution_count": 48,
     "metadata": {},
     "output_type": "execute_result"
    }
   ],
   "source": [
    "print(df_instruments[df_instruments['Review Length'] == 1]['reviewText'].count())\n",
    "print(df_instruments[df_instruments['Review Length'] == 1]['reviewText'].unique())\n",
    "df_instruments[df_instruments['Review Length'] == 1]['reviewText'].value_counts()"
   ]
  },
  {
   "cell_type": "code",
   "execution_count": 49,
   "metadata": {},
   "outputs": [
    {
     "data": {
      "text/plain": [
       "0.759493670886076"
      ]
     },
     "execution_count": 49,
     "metadata": {},
     "output_type": "execute_result"
    }
   ],
   "source": [
    "(77 + 75 + 46 + 42) / 316"
   ]
  },
  {
   "cell_type": "code",
   "execution_count": 51,
   "metadata": {},
   "outputs": [
    {
     "data": {
      "text/plain": [
       "array(['ok', ':)', 'Ok', 'a1', 'A+', 'OK', 'ty', 'a+', 'Go', 'AA', 'C+',\n",
       "       'Mm', 'No', '#1', 'Yo', '<3', 'ej', 'aa', 'A=', '%0', 'no', 'B-',\n",
       "       '5*', 'eh', 'Fr', 'vg', '=D', 'Aa', ';)', '4*', 'A1', '1*', 'VG',\n",
       "       'Eh', ':D', 'Hi', 'TY', 'It', 'ew', 'Su', 'Ty', '=(', '=)', 'NO',\n",
       "       'F-', 'D-', '(:', 'Vv', '+1', 'VE', 'Me', ':(', ':/', 'nc', 'ye',\n",
       "       ';(', 'np', '!!', 'Ye', 'gg', ':>', 'ic', 'Gg', 'So', 'Ju'],\n",
       "      dtype=object)"
      ]
     },
     "execution_count": 51,
     "metadata": {},
     "output_type": "execute_result"
    }
   ],
   "source": [
    "df_instruments[df_instruments['Review Length'] == 2]['reviewText'].unique()"
   ]
  },
  {
   "cell_type": "code",
   "execution_count": 52,
   "metadata": {},
   "outputs": [
    {
     "data": {
      "text/plain": [
       "12    13954\n",
       "9     13558\n",
       "11    12769\n",
       "10    12224\n",
       "13    11218\n",
       "4     10293\n",
       "7      9267\n",
       "18     9135\n",
       "5      8714\n",
       "28     8611\n",
       "14     8599\n",
       "27     8506\n",
       "17     8294\n",
       "29     8294\n",
       "19     8285\n",
       "Name: Review Length, dtype: int64"
      ]
     },
     "execution_count": 52,
     "metadata": {},
     "output_type": "execute_result"
    }
   ],
   "source": [
    "df_instruments['Review Length'].value_counts()[0:15]"
   ]
  },
  {
   "cell_type": "code",
   "execution_count": 55,
   "metadata": {},
   "outputs": [
    {
     "data": {
      "text/plain": [
       "good             2923\n",
       "Great            2896\n",
       "Good             2596\n",
       "great            2359\n",
       "Excellent        1867\n",
       "Works great      1567\n",
       "Perfect          1557\n",
       "Great product    1328\n",
       "Great!           1315\n",
       "ok               1292\n",
       "works great      1194\n",
       "Love it          1177\n",
       "Works great!     1165\n",
       "Nice             1111\n",
       "nice             1016\n",
       "Name: reviewText, dtype: int64"
      ]
     },
     "execution_count": 55,
     "metadata": {},
     "output_type": "execute_result"
    }
   ],
   "source": [
    "df_instruments['reviewText'].value_counts()[0:15]"
   ]
  },
  {
   "cell_type": "markdown",
   "metadata": {},
   "source": [
    "### Fashion exploration"
   ]
  },
  {
   "cell_type": "code",
   "execution_count": 42,
   "metadata": {},
   "outputs": [
    {
     "name": "stdout",
     "output_type": "stream",
     "text": [
      "(883636, 4)\n",
      "(882313, 10)\n"
     ]
    }
   ],
   "source": [
    "df_fashion = data_prep('AMAZON_FASHION')"
   ]
  },
  {
   "cell_type": "code",
   "execution_count": 56,
   "metadata": {},
   "outputs": [],
   "source": [
    "review_length = []\n",
    "\n",
    "for line in df_fashion['reviewText']:\n",
    "    review_length.append(len(line))\n",
    "    \n",
    "df_fashion['Review Length'] = review_length"
   ]
  },
  {
   "cell_type": "code",
   "execution_count": 57,
   "metadata": {},
   "outputs": [
    {
     "name": "stdout",
     "output_type": "stream",
     "text": [
      "171\n",
      "['A' 'D' 'a' 'k' 'c' '1' 'E' 'd' 'C' 'e' 'K' '.' 'F' 'b' 'B' ' ' 'f' 'm'\n",
      " 'N']\n"
     ]
    },
    {
     "data": {
      "text/plain": [
       "A    44\n",
       "a    29\n",
       "k    25\n",
       "1    23\n",
       "K    12\n",
       "c    10\n",
       "C     5\n",
       "d     5\n",
       ".     4\n",
       "E     3\n",
       "b     2\n",
       "B     2\n",
       "      1\n",
       "e     1\n",
       "f     1\n",
       "D     1\n",
       "F     1\n",
       "m     1\n",
       "N     1\n",
       "Name: reviewText, dtype: int64"
      ]
     },
     "execution_count": 57,
     "metadata": {},
     "output_type": "execute_result"
    }
   ],
   "source": [
    "print(df_fashion[df_fashion['Review Length'] == 1]['reviewText'].count())\n",
    "print(df_fashion[df_fashion['Review Length'] == 1]['reviewText'].unique())\n",
    "df_fashion[df_fashion['Review Length'] == 1]['reviewText'].value_counts()"
   ]
  },
  {
   "cell_type": "code",
   "execution_count": 61,
   "metadata": {},
   "outputs": [
    {
     "data": {
      "text/plain": [
       "0.7076023391812866"
      ]
     },
     "execution_count": 61,
     "metadata": {},
     "output_type": "execute_result"
    }
   ],
   "source": [
    "(44 + 29 + 25 + 23) / 171"
   ]
  },
  {
   "cell_type": "code",
   "execution_count": 58,
   "metadata": {},
   "outputs": [
    {
     "data": {
      "text/plain": [
       "array(['ok', 'Ok', ':)', 'A+', 'OK', 'No', 'A1', ':(', ';)', '<3', 'ty',\n",
       "       'F-', 'no', '(:', '0k', '0+', 'a+', 'bb', 'TY', 'Nc', '4*', 'Hi',\n",
       "       ':D', 'Ty', 'AA', ':]', ':/', 'Xx', ':P', 'NO', '=]', '1*', 'Eh',\n",
       "       'hi', 'A-', '+1', 'A*', 'I.', '5*', ':i', 'eh', '++', ':*', '\\n\\n',\n",
       "       'Ew', 'vg', '=)', 'It', 'tu', '3*', 'a*', 'Sq', 'OE', 'Wa', 'NA',\n",
       "       'be', '-+', '+2', '=(', 'A=', '11', 'Mm', ';('], dtype=object)"
      ]
     },
     "execution_count": 58,
     "metadata": {},
     "output_type": "execute_result"
    }
   ],
   "source": [
    "df_fashion[df_fashion['Review Length'] == 2]['reviewText'].unique()"
   ]
  },
  {
   "cell_type": "code",
   "execution_count": 59,
   "metadata": {},
   "outputs": [
    {
     "data": {
      "text/plain": [
       "9     14026\n",
       "10     9830\n",
       "7      9034\n",
       "4      8319\n",
       "11     7899\n",
       "8      7802\n",
       "12     7719\n",
       "13     6923\n",
       "14     6608\n",
       "27     6454\n",
       "17     6433\n",
       "28     6327\n",
       "26     6292\n",
       "19     6253\n",
       "25     6232\n",
       "Name: Review Length, dtype: int64"
      ]
     },
     "execution_count": 59,
     "metadata": {},
     "output_type": "execute_result"
    }
   ],
   "source": [
    "df_fashion['Review Length'].value_counts()[0:15]"
   ]
  },
  {
   "cell_type": "code",
   "execution_count": 60,
   "metadata": {},
   "outputs": [
    {
     "data": {
      "text/plain": [
       "Love it      2658\n",
       "Great        1650\n",
       "Good         1517\n",
       "Nice         1516\n",
       "Love it!     1405\n",
       "Perfect      1267\n",
       "good         1136\n",
       "love it      1117\n",
       "nice          879\n",
       "great         875\n",
       "Beautiful     841\n",
       "Too small     748\n",
       "Very nice     738\n",
       "Excellent     737\n",
       "I love it     674\n",
       "Name: reviewText, dtype: int64"
      ]
     },
     "execution_count": 60,
     "metadata": {},
     "output_type": "execute_result"
    }
   ],
   "source": [
    "df_fashion['reviewText'].value_counts()[0:15]"
   ]
  },
  {
   "cell_type": "markdown",
   "metadata": {},
   "source": [
    "### Exploration of top 15 most common reviews across several catagories \n",
    "\n",
    "Code below\n",
    "\n",
    "| Prime         | Instruments   | Fashion   | Beauty         | Appliances    | Software      |\n",
    "|---------------|---------------|-----------|----------------|---------------|---------------|\n",
    "| good          | good          | Love it   | Good           | Works great   | good          |\n",
    "| Good          | Great         | Great     | Love it        | Great         | Great         |\n",
    "| great         | Good          | Good      | Great          | Perfect       | great         |\n",
    "| Great         | great         | Nice      | good           | Good          | Good          |\n",
    "| ok            | Excellent     | Love it!  | Great product  | Perfect fit   | ok            |\n",
    "| Great product | Works great   | Perfect   | great          | good          | Excellent     |\n",
    "| love it       | Perfect       | good      | Love it!       | works great   | Great product |\n",
    "| Great!        | Great product | love it   | Excellent      | great         | Love it       |\n",
    "| Delicious!    | Great!        | nice      | love it        | Works great!  | love it       |\n",
    "| Love it       | ok            | great     | Nice           | Excellent     | Works great   |\n",
    "| Delicious     | works great   | Beautiful | Great product! | Great product | works great   |\n",
    "| yummy         | Love it       | Too small | Works great    | Worked great  | Great!        |\n",
    "| Yummy         | Works great!  | Very nice | Perfect        | perfect       | excellent     |\n",
    "| very good     | Nice          | Excellent | Good product   | Works great.  | great product |\n",
    "| Good product  | nice          | I love it | ok             | perfect fit   | Good product  |\n",
    "\n",
    "\n",
    "Couple interesting oberservations from this:\n",
    "- the top 4 are basically the same across catagories\n",
    "- the further down the list you go, the most catagory specific a review becomes. A few that stick out are:\n",
    "    - \"Yum!\" and \"yummy\" in Prime\n",
    "    - \"works great\" and \"great product\" in Instruments, Appliances, Software, and Beauty. I have to go down to the 30+ range to find similar reviews in Fashion"
   ]
  },
  {
   "cell_type": "code",
   "execution_count": 62,
   "metadata": {},
   "outputs": [
    {
     "data": {
      "text/plain": [
       "good             2789\n",
       "Good             2122\n",
       "great            1964\n",
       "Great            1726\n",
       "ok               1142\n",
       "Great product     804\n",
       "love it           673\n",
       "Great!            660\n",
       "Delicious!        604\n",
       "Love it           580\n",
       "Delicious         560\n",
       "yummy             554\n",
       "Yummy             541\n",
       "very good         538\n",
       "Good product      535\n",
       "Name: reviewText, dtype: int64"
      ]
     },
     "execution_count": 62,
     "metadata": {},
     "output_type": "execute_result"
    }
   ],
   "source": [
    "df_prime['reviewText'].value_counts()[0:15]"
   ]
  },
  {
   "cell_type": "code",
   "execution_count": 63,
   "metadata": {},
   "outputs": [
    {
     "data": {
      "text/plain": [
       "good             2923\n",
       "Great            2896\n",
       "Good             2596\n",
       "great            2359\n",
       "Excellent        1867\n",
       "Works great      1567\n",
       "Perfect          1557\n",
       "Great product    1328\n",
       "Great!           1315\n",
       "ok               1292\n",
       "works great      1194\n",
       "Love it          1177\n",
       "Works great!     1165\n",
       "Nice             1111\n",
       "nice             1016\n",
       "Name: reviewText, dtype: int64"
      ]
     },
     "execution_count": 63,
     "metadata": {},
     "output_type": "execute_result"
    }
   ],
   "source": [
    "df_instruments['reviewText'].value_counts()[0:15]"
   ]
  },
  {
   "cell_type": "code",
   "execution_count": 70,
   "metadata": {},
   "outputs": [
    {
     "data": {
      "text/plain": [
       "Perfect fit       211\n",
       "Very pretty       207\n",
       "love them         198\n",
       "Love it!!!        193\n",
       "Super cute!       193\n",
       "Thank you         190\n",
       "To small          184\n",
       "Great product!    184\n",
       "Cute!             182\n",
       "Very nice.        182\n",
       "Poor quality      177\n",
       "love it!          176\n",
       "Very nice!        175\n",
       "Fits great        175\n",
       "Name: reviewText, dtype: int64"
      ]
     },
     "execution_count": 70,
     "metadata": {},
     "output_type": "execute_result"
    }
   ],
   "source": [
    "df_fashion['reviewText'].value_counts()[46:60]"
   ]
  },
  {
   "cell_type": "code",
   "execution_count": 65,
   "metadata": {},
   "outputs": [
    {
     "name": "stdout",
     "output_type": "stream",
     "text": [
      "(371345, 4)\n",
      "(370908, 10)\n"
     ]
    },
    {
     "data": {
      "text/plain": [
       "Good              802\n",
       "Love it           787\n",
       "Great             776\n",
       "good              756\n",
       "Great product     564\n",
       "great             474\n",
       "Love it!          459\n",
       "Excellent         389\n",
       "love it           386\n",
       "Nice              347\n",
       "Great product!    305\n",
       "Works great       287\n",
       "Perfect           286\n",
       "Good product      275\n",
       "ok                269\n",
       "Name: reviewText, dtype: int64"
      ]
     },
     "execution_count": 65,
     "metadata": {},
     "output_type": "execute_result"
    }
   ],
   "source": [
    "df_beauty = data_prep('All_Beauty')\n",
    "df_beauty['reviewText'].value_counts()[0:15]"
   ]
  },
  {
   "cell_type": "code",
   "execution_count": 66,
   "metadata": {},
   "outputs": [
    {
     "name": "stdout",
     "output_type": "stream",
     "text": [
      "(602777, 4)\n",
      "(602438, 10)\n"
     ]
    },
    {
     "data": {
      "text/plain": [
       "Works great      1575\n",
       "Great            1393\n",
       "Perfect          1354\n",
       "Good             1258\n",
       "Perfect fit      1153\n",
       "good             1134\n",
       "works great      1016\n",
       "great             987\n",
       "Works great!      973\n",
       "Excellent         758\n",
       "Great product     754\n",
       "Worked great      660\n",
       "perfect           653\n",
       "Works great.      618\n",
       "perfect fit       612\n",
       "Name: reviewText, dtype: int64"
      ]
     },
     "execution_count": 66,
     "metadata": {},
     "output_type": "execute_result"
    }
   ],
   "source": [
    "df_appliances = data_prep('Appliances')\n",
    "df_appliances['reviewText'].value_counts()[0:15]"
   ]
  },
  {
   "cell_type": "code",
   "execution_count": 67,
   "metadata": {},
   "outputs": [
    {
     "name": "stdout",
     "output_type": "stream",
     "text": [
      "(459436, 4)\n",
      "(459346, 10)\n"
     ]
    },
    {
     "data": {
      "text/plain": [
       "good             811\n",
       "Great            775\n",
       "great            728\n",
       "Good             624\n",
       "ok               575\n",
       "Excellent        462\n",
       "Great product    313\n",
       "Love it          294\n",
       "love it          275\n",
       "Works great      264\n",
       "works great      261\n",
       "Great!           253\n",
       "excellent        214\n",
       "great product    208\n",
       "Good product     193\n",
       "Name: reviewText, dtype: int64"
      ]
     },
     "execution_count": 67,
     "metadata": {},
     "output_type": "execute_result"
    }
   ],
   "source": [
    "df_software = data_prep('Software')\n",
    "df_software['reviewText'].value_counts()[0:15]"
   ]
  },
  {
   "cell_type": "code",
   "execution_count": null,
   "metadata": {},
   "outputs": [],
   "source": []
  }
 ],
 "metadata": {
  "kernelspec": {
   "display_name": "conda_python3",
   "language": "python",
   "name": "conda_python3"
  },
  "language_info": {
   "codemirror_mode": {
    "name": "ipython",
    "version": 3
   },
   "file_extension": ".py",
   "mimetype": "text/x-python",
   "name": "python",
   "nbconvert_exporter": "python",
   "pygments_lexer": "ipython3",
   "version": "3.6.10"
  }
 },
 "nbformat": 4,
 "nbformat_minor": 4
}
